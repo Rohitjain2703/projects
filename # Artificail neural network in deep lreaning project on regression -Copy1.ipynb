{
 "cells": [
  {
   "cell_type": "markdown",
   "id": "808284a8",
   "metadata": {},
   "source": [
    "# Artificail neural network in deep learning project on regression "
   ]
  },
  {
   "cell_type": "code",
   "execution_count": 1,
   "id": "d50490c9",
   "metadata": {},
   "outputs": [
    {
     "name": "stdout",
     "output_type": "stream",
     "text": [
      "Requirement already satisfied: scikeras in c:\\users\\rohit jain\\anaconda3\\lib\\site-packages (0.9.0)\n",
      "Requirement already satisfied: scikit-learn>=1.0.0 in c:\\users\\rohit jain\\anaconda3\\lib\\site-packages (from scikeras) (1.0.2)\n",
      "Requirement already satisfied: packaging>=0.21 in c:\\users\\rohit jain\\anaconda3\\lib\\site-packages (from scikeras) (21.3)\n",
      "Requirement already satisfied: pyparsing!=3.0.5,>=2.0.2 in c:\\users\\rohit jain\\anaconda3\\lib\\site-packages (from packaging>=0.21->scikeras) (3.0.4)\n",
      "Requirement already satisfied: scipy>=1.1.0 in c:\\users\\rohit jain\\anaconda3\\lib\\site-packages (from scikit-learn>=1.0.0->scikeras) (1.7.3)\n",
      "Requirement already satisfied: joblib>=0.11 in c:\\users\\rohit jain\\anaconda3\\lib\\site-packages (from scikit-learn>=1.0.0->scikeras) (1.1.0)\n",
      "Requirement already satisfied: numpy>=1.14.6 in c:\\users\\rohit jain\\anaconda3\\lib\\site-packages (from scikit-learn>=1.0.0->scikeras) (1.21.5)\n",
      "Requirement already satisfied: threadpoolctl>=2.0.0 in c:\\users\\rohit jain\\anaconda3\\lib\\site-packages (from scikit-learn>=1.0.0->scikeras) (2.2.0)\n",
      "Note: you may need to restart the kernel to use updated packages.\n"
     ]
    }
   ],
   "source": [
    "pip install scikeras"
   ]
  },
  {
   "cell_type": "code",
   "execution_count": 2,
   "id": "7997e05c",
   "metadata": {},
   "outputs": [],
   "source": [
    "import numpy as np \n",
    "import pandas as pd\n",
    "\n",
    "import tensorflow as tf\n",
    "import keras "
   ]
  },
  {
   "cell_type": "code",
   "execution_count": 3,
   "id": "5ee55d68",
   "metadata": {},
   "outputs": [
    {
     "data": {
      "text/html": [
       "<div>\n",
       "<style scoped>\n",
       "    .dataframe tbody tr th:only-of-type {\n",
       "        vertical-align: middle;\n",
       "    }\n",
       "\n",
       "    .dataframe tbody tr th {\n",
       "        vertical-align: top;\n",
       "    }\n",
       "\n",
       "    .dataframe thead th {\n",
       "        text-align: right;\n",
       "    }\n",
       "</style>\n",
       "<table border=\"1\" class=\"dataframe\">\n",
       "  <thead>\n",
       "    <tr style=\"text-align: right;\">\n",
       "      <th></th>\n",
       "      <th>AT</th>\n",
       "      <th>V</th>\n",
       "      <th>AP</th>\n",
       "      <th>RH</th>\n",
       "      <th>PE</th>\n",
       "    </tr>\n",
       "  </thead>\n",
       "  <tbody>\n",
       "    <tr>\n",
       "      <th>0</th>\n",
       "      <td>14.96</td>\n",
       "      <td>41.76</td>\n",
       "      <td>1024.07</td>\n",
       "      <td>73.17</td>\n",
       "      <td>463.26</td>\n",
       "    </tr>\n",
       "    <tr>\n",
       "      <th>1</th>\n",
       "      <td>25.18</td>\n",
       "      <td>62.96</td>\n",
       "      <td>1020.04</td>\n",
       "      <td>59.08</td>\n",
       "      <td>444.37</td>\n",
       "    </tr>\n",
       "    <tr>\n",
       "      <th>2</th>\n",
       "      <td>5.11</td>\n",
       "      <td>39.40</td>\n",
       "      <td>1012.16</td>\n",
       "      <td>92.14</td>\n",
       "      <td>488.56</td>\n",
       "    </tr>\n",
       "    <tr>\n",
       "      <th>3</th>\n",
       "      <td>20.86</td>\n",
       "      <td>57.32</td>\n",
       "      <td>1010.24</td>\n",
       "      <td>76.64</td>\n",
       "      <td>446.48</td>\n",
       "    </tr>\n",
       "    <tr>\n",
       "      <th>4</th>\n",
       "      <td>10.82</td>\n",
       "      <td>37.50</td>\n",
       "      <td>1009.23</td>\n",
       "      <td>96.62</td>\n",
       "      <td>473.90</td>\n",
       "    </tr>\n",
       "  </tbody>\n",
       "</table>\n",
       "</div>"
      ],
      "text/plain": [
       "      AT      V       AP     RH      PE\n",
       "0  14.96  41.76  1024.07  73.17  463.26\n",
       "1  25.18  62.96  1020.04  59.08  444.37\n",
       "2   5.11  39.40  1012.16  92.14  488.56\n",
       "3  20.86  57.32  1010.24  76.64  446.48\n",
       "4  10.82  37.50  1009.23  96.62  473.90"
      ]
     },
     "execution_count": 3,
     "metadata": {},
     "output_type": "execute_result"
    }
   ],
   "source": [
    "ds=pd.read_excel(\"Downloads/energy.xlsx\")\n",
    "ds.head()"
   ]
  },
  {
   "cell_type": "code",
   "execution_count": 4,
   "id": "fea4407d",
   "metadata": {},
   "outputs": [],
   "source": [
    "#x&Y\n",
    "x=ds.iloc[:,:-1].values\n",
    "y=ds.iloc[:,:-1].values"
   ]
  },
  {
   "cell_type": "code",
   "execution_count": 5,
   "id": "ef693c72",
   "metadata": {},
   "outputs": [],
   "source": [
    "##spliting dataset into the trainng set and test set \n",
    "from sklearn.model_selection import train_test_split\n",
    "x_train,x_test,y_train,y_test = train_test_split(x,y ,test_size=0.2,random_state=0)"
   ]
  },
  {
   "cell_type": "code",
   "execution_count": 6,
   "id": "00fc5b09",
   "metadata": {},
   "outputs": [
    {
     "data": {
      "text/plain": [
       "((7654, 4), (1914, 4), (7654, 4), (1914, 4))"
      ]
     },
     "execution_count": 6,
     "metadata": {},
     "output_type": "execute_result"
    }
   ],
   "source": [
    "x_train.shape,x_test.shape,y_train.shape,y_test.shape"
   ]
  },
  {
   "cell_type": "code",
   "execution_count": 7,
   "id": "2e7e7910",
   "metadata": {},
   "outputs": [],
   "source": [
    "#inilization of ann\n",
    "from keras.models import Sequential\n",
    "ann=Sequential()"
   ]
  },
  {
   "cell_type": "code",
   "execution_count": 8,
   "id": "e8c784ac",
   "metadata": {},
   "outputs": [],
   "source": [
    "#adding the imput layer the with1st hidden layer\n",
    "from keras.layers import Dense\n",
    "ann.add(Dense(input_dim=4,units=4,activation =\"relu\"))\n",
    "\n",
    "#ann.add(dropout(rate=0.1)) for reducing the overfitting problems"
   ]
  },
  {
   "cell_type": "code",
   "execution_count": 9,
   "id": "1602cb97",
   "metadata": {},
   "outputs": [],
   "source": [
    "ann.add(Dense(units=7,activation =\"relu\"))\n",
    "\n",
    "#ann.add(dropout(rate=0.1)) for reducing the overfitting problems and reducing neuron value in hidden layer "
   ]
  },
  {
   "cell_type": "code",
   "execution_count": 10,
   "id": "227fb597",
   "metadata": {},
   "outputs": [],
   "source": [
    "#adding output layer  & if we stop the hideen layer it will take automatic last layer as output layer\n",
    "ann.add(Dense(units=1,activation =\"relu\"))\n"
   ]
  },
  {
   "cell_type": "code",
   "execution_count": 11,
   "id": "f76ce581",
   "metadata": {},
   "outputs": [],
   "source": [
    "ann.compile(optimizer=\"adam\",loss=\"mean_squared_error\",metrics=[\"accuracy\"])"
   ]
  },
  {
   "cell_type": "code",
   "execution_count": 12,
   "id": "c6d98aae",
   "metadata": {},
   "outputs": [
    {
     "name": "stdout",
     "output_type": "stream",
     "text": [
      "Epoch 1/50\n",
      "766/766 [==============================] - 2s 2ms/step - loss: 258959.3594 - accuracy: 0.0000e+00\n",
      "Epoch 2/50\n",
      "766/766 [==============================] - 1s 2ms/step - loss: 258959.2656 - accuracy: 0.0000e+00\n",
      "Epoch 3/50\n",
      "766/766 [==============================] - 1s 2ms/step - loss: 258959.2656 - accuracy: 0.0000e+00\n",
      "Epoch 4/50\n",
      "766/766 [==============================] - 1s 2ms/step - loss: 258959.1406 - accuracy: 0.0000e+00\n",
      "Epoch 5/50\n",
      "766/766 [==============================] - 1s 2ms/step - loss: 258959.2188 - accuracy: 0.0000e+00\n",
      "Epoch 6/50\n",
      "766/766 [==============================] - 1s 2ms/step - loss: 258959.2188 - accuracy: 0.0000e+00\n",
      "Epoch 7/50\n",
      "766/766 [==============================] - 1s 2ms/step - loss: 258959.2344 - accuracy: 0.0000e+00\n",
      "Epoch 8/50\n",
      "766/766 [==============================] - 1s 2ms/step - loss: 258959.0156 - accuracy: 0.0000e+00\n",
      "Epoch 9/50\n",
      "766/766 [==============================] - 1s 2ms/step - loss: 258959.4062 - accuracy: 0.0000e+00\n",
      "Epoch 10/50\n",
      "766/766 [==============================] - 1s 2ms/step - loss: 258959.1250 - accuracy: 0.0000e+00\n",
      "Epoch 11/50\n",
      "766/766 [==============================] - 1s 2ms/step - loss: 258959.2500 - accuracy: 0.0000e+00\n",
      "Epoch 12/50\n",
      "766/766 [==============================] - 1s 2ms/step - loss: 258959.0625 - accuracy: 0.0000e+00\n",
      "Epoch 13/50\n",
      "766/766 [==============================] - 1s 2ms/step - loss: 258959.2344 - accuracy: 0.0000e+00\n",
      "Epoch 14/50\n",
      "766/766 [==============================] - 1s 2ms/step - loss: 258959.2656 - accuracy: 0.0000e+00\n",
      "Epoch 15/50\n",
      "766/766 [==============================] - 1s 2ms/step - loss: 258959.2656 - accuracy: 0.0000e+00\n",
      "Epoch 16/50\n",
      "766/766 [==============================] - 1s 2ms/step - loss: 258959.0938 - accuracy: 0.0000e+00\n",
      "Epoch 17/50\n",
      "766/766 [==============================] - 1s 2ms/step - loss: 258959.1875 - accuracy: 0.0000e+00\n",
      "Epoch 18/50\n",
      "766/766 [==============================] - 1s 2ms/step - loss: 258959.2031 - accuracy: 0.0000e+00\n",
      "Epoch 19/50\n",
      "766/766 [==============================] - 1s 2ms/step - loss: 258959.0938 - accuracy: 0.0000e+00\n",
      "Epoch 20/50\n",
      "766/766 [==============================] - 1s 2ms/step - loss: 258959.2969 - accuracy: 0.0000e+00\n",
      "Epoch 21/50\n",
      "766/766 [==============================] - 1s 2ms/step - loss: 258959.2344 - accuracy: 0.0000e+00\n",
      "Epoch 22/50\n",
      "766/766 [==============================] - 1s 2ms/step - loss: 258959.1719 - accuracy: 0.0000e+00\n",
      "Epoch 23/50\n",
      "766/766 [==============================] - 1s 2ms/step - loss: 258959.2344 - accuracy: 0.0000e+00\n",
      "Epoch 24/50\n",
      "766/766 [==============================] - 1s 2ms/step - loss: 258959.1406 - accuracy: 0.0000e+00\n",
      "Epoch 25/50\n",
      "766/766 [==============================] - 1s 2ms/step - loss: 258959.2500 - accuracy: 0.0000e+00\n",
      "Epoch 26/50\n",
      "766/766 [==============================] - 1s 2ms/step - loss: 258959.2344 - accuracy: 0.0000e+00\n",
      "Epoch 27/50\n",
      "766/766 [==============================] - 1s 2ms/step - loss: 258959.2031 - accuracy: 0.0000e+00\n",
      "Epoch 28/50\n",
      "766/766 [==============================] - 1s 2ms/step - loss: 258959.2656 - accuracy: 0.0000e+00\n",
      "Epoch 29/50\n",
      "766/766 [==============================] - 1s 2ms/step - loss: 258959.2188 - accuracy: 0.0000e+00\n",
      "Epoch 30/50\n",
      "766/766 [==============================] - 1s 2ms/step - loss: 258959.1719 - accuracy: 0.0000e+00\n",
      "Epoch 31/50\n",
      "766/766 [==============================] - 1s 2ms/step - loss: 258959.4062 - accuracy: 0.0000e+00\n",
      "Epoch 32/50\n",
      "766/766 [==============================] - 1s 2ms/step - loss: 258959.1875 - accuracy: 0.0000e+00\n",
      "Epoch 33/50\n",
      "766/766 [==============================] - 1s 2ms/step - loss: 258959.2969 - accuracy: 0.0000e+00\n",
      "Epoch 34/50\n",
      "766/766 [==============================] - 1s 2ms/step - loss: 258959.2031 - accuracy: 0.0000e+00\n",
      "Epoch 35/50\n",
      "766/766 [==============================] - 1s 2ms/step - loss: 258959.2500 - accuracy: 0.0000e+00\n",
      "Epoch 36/50\n",
      "766/766 [==============================] - 1s 2ms/step - loss: 258959.2188 - accuracy: 0.0000e+00\n",
      "Epoch 37/50\n",
      "766/766 [==============================] - 1s 2ms/step - loss: 258958.9375 - accuracy: 0.0000e+00\n",
      "Epoch 38/50\n",
      "766/766 [==============================] - 1s 2ms/step - loss: 258959.1250 - accuracy: 0.0000e+00\n",
      "Epoch 39/50\n",
      "766/766 [==============================] - 1s 2ms/step - loss: 258959.1562 - accuracy: 0.0000e+00\n",
      "Epoch 40/50\n",
      "766/766 [==============================] - 1s 2ms/step - loss: 258959.2031 - accuracy: 0.0000e+00\n",
      "Epoch 41/50\n",
      "766/766 [==============================] - 1s 2ms/step - loss: 258959.2969 - accuracy: 0.0000e+00\n",
      "Epoch 42/50\n",
      "766/766 [==============================] - 1s 2ms/step - loss: 258959.2031 - accuracy: 0.0000e+00\n",
      "Epoch 43/50\n",
      "766/766 [==============================] - 1s 2ms/step - loss: 258959.1875 - accuracy: 0.0000e+00\n",
      "Epoch 44/50\n",
      "766/766 [==============================] - 1s 2ms/step - loss: 258959.2344 - accuracy: 0.0000e+00\n",
      "Epoch 45/50\n",
      "766/766 [==============================] - 1s 2ms/step - loss: 258959.3281 - accuracy: 0.0000e+00\n",
      "Epoch 46/50\n",
      "766/766 [==============================] - 1s 2ms/step - loss: 258959.3281 - accuracy: 0.0000e+00\n",
      "Epoch 47/50\n",
      "766/766 [==============================] - 1s 2ms/step - loss: 258959.1406 - accuracy: 0.0000e+00\n",
      "Epoch 48/50\n",
      "766/766 [==============================] - 1s 2ms/step - loss: 258959.2812 - accuracy: 0.0000e+00\n",
      "Epoch 49/50\n",
      "766/766 [==============================] - 1s 2ms/step - loss: 258959.2344 - accuracy: 0.0000e+00\n",
      "Epoch 50/50\n",
      "766/766 [==============================] - 1s 2ms/step - loss: 258959.2656 - accuracy: 0.0000e+00\n"
     ]
    },
    {
     "data": {
      "text/plain": [
       "<keras.callbacks.History at 0x222a9dc45b0>"
      ]
     },
     "execution_count": 12,
     "metadata": {},
     "output_type": "execute_result"
    }
   ],
   "source": [
    "ann.fit(x_train,y_train,epochs=50,batch_size=10)"
   ]
  },
  {
   "cell_type": "code",
   "execution_count": 13,
   "id": "8b598f18",
   "metadata": {},
   "outputs": [
    {
     "name": "stdout",
     "output_type": "stream",
     "text": [
      "60/60 [==============================] - 0s 2ms/step\n"
     ]
    }
   ],
   "source": [
    "ypred=ann.predict(x_test)\n",
    "ypred=(ypred>0.5)"
   ]
  },
  {
   "cell_type": "code",
   "execution_count": 14,
   "id": "e3087afc",
   "metadata": {},
   "outputs": [],
   "source": [
    "def build_cross_classifier():\n",
    "    classifier=Sequential()\n",
    "    classifier.add(Dense(input_dim=11,units=4,kernel_initializer=\"uniform\",activation =\"relu\"))\n",
    "    classifier.add(Dense(units=4,kernel_initializer=\"uniform\",activation =\"relu\"))\n",
    "    classifier.add(Dense(units=1,kernel_initializer=\"uniform\",activation =\"sigmoid\"))\n",
    "    classifier.compile(optimizer=\"adam\",loss=\"binary_crossentropy\",metrics=[\"accuracy\"])\n",
    "    \n",
    "    return classifier"
   ]
  },
  {
   "cell_type": "code",
   "execution_count": 15,
   "id": "2b7c0523",
   "metadata": {},
   "outputs": [],
   "source": [
    "from scikeras.wrappers import KerasClassifier\n",
    "classifier= KerasClassifier(build_cross_classifier,batch_size=10,epochs=50)"
   ]
  },
  {
   "cell_type": "code",
   "execution_count": 16,
   "id": "db83009a",
   "metadata": {},
   "outputs": [
    {
     "name": "stderr",
     "output_type": "stream",
     "text": [
      "C:\\Users\\Rohit Jain\\anaconda3\\lib\\site-packages\\sklearn\\model_selection\\_validation.py:372: FitFailedWarning: \n",
      "5 fits failed out of a total of 5.\n",
      "The score on these train-test partitions for these parameters will be set to nan.\n",
      "If these failures are not expected, you can try to debug them by setting error_score='raise'.\n",
      "\n",
      "Below are more details about the failures:\n",
      "--------------------------------------------------------------------------------\n",
      "5 fits failed with the following error:\n",
      "Traceback (most recent call last):\n",
      "  File \"C:\\Users\\Rohit Jain\\anaconda3\\lib\\site-packages\\sklearn\\model_selection\\_validation.py\", line 680, in _fit_and_score\n",
      "    estimator.fit(X_train, y_train, **fit_params)\n",
      "  File \"C:\\Users\\Rohit Jain\\anaconda3\\lib\\site-packages\\scikeras\\wrappers.py\", line 1494, in fit\n",
      "    super().fit(X=X, y=y, sample_weight=sample_weight, **kwargs)\n",
      "  File \"C:\\Users\\Rohit Jain\\anaconda3\\lib\\site-packages\\scikeras\\wrappers.py\", line 762, in fit\n",
      "    self._fit(\n",
      "  File \"C:\\Users\\Rohit Jain\\anaconda3\\lib\\site-packages\\scikeras\\wrappers.py\", line 918, in _fit\n",
      "    X, y = self._initialize(X, y)\n",
      "  File \"C:\\Users\\Rohit Jain\\anaconda3\\lib\\site-packages\\scikeras\\wrappers.py\", line 848, in _initialize\n",
      "    self.target_encoder_ = self.target_encoder.fit(y)\n",
      "  File \"C:\\Users\\Rohit Jain\\anaconda3\\lib\\site-packages\\scikeras\\utils\\transformers.py\", line 177, in fit\n",
      "    raise ValueError(\n",
      "ValueError: Unknown label type: continuous-multioutput.\n",
      "\n",
      "To implement support, subclass KerasClassifier and override ``target_encoder`` with a transformer that supports this label type.\n",
      "\n",
      "For information on sklearn target types, see: * https://scikit-learn.org/stable/modules/generated/sklearn.utils.multiclass.type_of_target.html * https://scikit-learn.org/stable/modules/multiclass.html\n",
      "\n",
      "For information on the SciKeras data transformation interface, see: * https://www.adriangb.com/scikeras/stable/advanced.html#data-transformers\n",
      "\n",
      "  warnings.warn(some_fits_failed_message, FitFailedWarning)\n"
     ]
    }
   ],
   "source": [
    "from sklearn.model_selection import cross_val_score\n",
    "accuracy=cross_val_score(classifier,x,y,cv=5)"
   ]
  },
  {
   "cell_type": "code",
   "execution_count": 17,
   "id": "1b4c569d",
   "metadata": {},
   "outputs": [
    {
     "name": "stdout",
     "output_type": "stream",
     "text": [
      "nan\n"
     ]
    }
   ],
   "source": [
    "print(accuracy.mean())"
   ]
  },
  {
   "cell_type": "code",
   "execution_count": 18,
   "id": "36bfc201",
   "metadata": {},
   "outputs": [
    {
     "name": "stdout",
     "output_type": "stream",
     "text": [
      "INFO:tensorflow:Assets written to: C:\\Users\\ROHITJ~1\\AppData\\Local\\Temp\\tmp1ova31zh\\assets\n",
      "INFO:tensorflow:Assets written to: C:\\Users\\ROHITJ~1\\AppData\\Local\\Temp\\tmp6y1anjc9\\assets\n",
      "INFO:tensorflow:Assets written to: C:\\Users\\ROHITJ~1\\AppData\\Local\\Temp\\tmp7wpevi_e\\assets\n",
      "INFO:tensorflow:Assets written to: C:\\Users\\ROHITJ~1\\AppData\\Local\\Temp\\tmpemo06or2\\assets\n",
      "INFO:tensorflow:Assets written to: C:\\Users\\ROHITJ~1\\AppData\\Local\\Temp\\tmpapl672zt\\assets\n",
      "INFO:tensorflow:Assets written to: C:\\Users\\ROHITJ~1\\AppData\\Local\\Temp\\tmpr7uxvc8w\\assets\n",
      "INFO:tensorflow:Assets written to: C:\\Users\\ROHITJ~1\\AppData\\Local\\Temp\\tmpjb5ghz44\\assets\n",
      "INFO:tensorflow:Assets written to: C:\\Users\\ROHITJ~1\\AppData\\Local\\Temp\\tmpp7nciork\\assets\n",
      "INFO:tensorflow:Assets written to: C:\\Users\\ROHITJ~1\\AppData\\Local\\Temp\\tmpk1wlu2v9\\assets\n",
      "INFO:tensorflow:Assets written to: C:\\Users\\ROHITJ~1\\AppData\\Local\\Temp\\tmpldqzo7f1\\assets\n",
      "INFO:tensorflow:Assets written to: C:\\Users\\ROHITJ~1\\AppData\\Local\\Temp\\tmpp174n_hl\\assets\n",
      "INFO:tensorflow:Assets written to: C:\\Users\\ROHITJ~1\\AppData\\Local\\Temp\\tmp8csgym5u\\assets\n",
      "INFO:tensorflow:Assets written to: C:\\Users\\ROHITJ~1\\AppData\\Local\\Temp\\tmph0ql2tgb\\assets\n",
      "INFO:tensorflow:Assets written to: C:\\Users\\ROHITJ~1\\AppData\\Local\\Temp\\tmpw6y41_5l\\assets\n",
      "INFO:tensorflow:Assets written to: C:\\Users\\ROHITJ~1\\AppData\\Local\\Temp\\tmp4q9ouni6\\assets\n",
      "INFO:tensorflow:Assets written to: C:\\Users\\ROHITJ~1\\AppData\\Local\\Temp\\tmplo6l3dzw\\assets\n",
      "INFO:tensorflow:Assets written to: C:\\Users\\ROHITJ~1\\AppData\\Local\\Temp\\tmprattrnl1\\assets\n",
      "INFO:tensorflow:Assets written to: C:\\Users\\ROHITJ~1\\AppData\\Local\\Temp\\tmprgtp6zh5\\assets\n",
      "INFO:tensorflow:Assets written to: C:\\Users\\ROHITJ~1\\AppData\\Local\\Temp\\tmp9nqf1nkn\\assets\n",
      "INFO:tensorflow:Assets written to: C:\\Users\\ROHITJ~1\\AppData\\Local\\Temp\\tmp6klib7r2\\assets\n",
      "INFO:tensorflow:Assets written to: C:\\Users\\ROHITJ~1\\AppData\\Local\\Temp\\tmpr5uvxrub\\assets\n",
      "INFO:tensorflow:Assets written to: C:\\Users\\ROHITJ~1\\AppData\\Local\\Temp\\tmpiudjsa9t\\assets\n",
      "INFO:tensorflow:Assets written to: C:\\Users\\ROHITJ~1\\AppData\\Local\\Temp\\tmp0h6d3osj\\assets\n",
      "INFO:tensorflow:Assets written to: C:\\Users\\ROHITJ~1\\AppData\\Local\\Temp\\tmpsyeuxxb5\\assets\n",
      "INFO:tensorflow:Assets written to: C:\\Users\\ROHITJ~1\\AppData\\Local\\Temp\\tmp9r71a7si\\assets\n",
      "INFO:tensorflow:Assets written to: C:\\Users\\ROHITJ~1\\AppData\\Local\\Temp\\tmprqgvshnt\\assets\n",
      "INFO:tensorflow:Assets written to: C:\\Users\\ROHITJ~1\\AppData\\Local\\Temp\\tmpa6e4lc1_\\assets\n",
      "INFO:tensorflow:Assets written to: C:\\Users\\ROHITJ~1\\AppData\\Local\\Temp\\tmps11c8wxj\\assets\n",
      "INFO:tensorflow:Assets written to: C:\\Users\\ROHITJ~1\\AppData\\Local\\Temp\\tmpbxbc7poh\\assets\n",
      "INFO:tensorflow:Assets written to: C:\\Users\\ROHITJ~1\\AppData\\Local\\Temp\\tmpg3unnufd\\assets\n",
      "INFO:tensorflow:Assets written to: C:\\Users\\ROHITJ~1\\AppData\\Local\\Temp\\tmpdji0j597\\assets\n",
      "INFO:tensorflow:Assets written to: C:\\Users\\ROHITJ~1\\AppData\\Local\\Temp\\tmp7sjxcgnh\\assets\n",
      "INFO:tensorflow:Assets written to: C:\\Users\\ROHITJ~1\\AppData\\Local\\Temp\\tmphxqyban7\\assets\n",
      "INFO:tensorflow:Assets written to: C:\\Users\\ROHITJ~1\\AppData\\Local\\Temp\\tmpkp353h9_\\assets\n",
      "INFO:tensorflow:Assets written to: C:\\Users\\ROHITJ~1\\AppData\\Local\\Temp\\tmpxtxk82iu\\assets\n",
      "INFO:tensorflow:Assets written to: C:\\Users\\ROHITJ~1\\AppData\\Local\\Temp\\tmp2hom54zv\\assets\n",
      "INFO:tensorflow:Assets written to: C:\\Users\\ROHITJ~1\\AppData\\Local\\Temp\\tmpu3d71x2q\\assets\n",
      "INFO:tensorflow:Assets written to: C:\\Users\\ROHITJ~1\\AppData\\Local\\Temp\\tmpq4r6uatl\\assets\n",
      "INFO:tensorflow:Assets written to: C:\\Users\\ROHITJ~1\\AppData\\Local\\Temp\\tmpbm_ccw9l\\assets\n",
      "INFO:tensorflow:Assets written to: C:\\Users\\ROHITJ~1\\AppData\\Local\\Temp\\tmp15jsq2es\\assets\n",
      "INFO:tensorflow:Assets written to: C:\\Users\\ROHITJ~1\\AppData\\Local\\Temp\\tmplzxcrhpj\\assets\n"
     ]
    },
    {
     "name": "stderr",
     "output_type": "stream",
     "text": [
      "C:\\Users\\Rohit Jain\\anaconda3\\lib\\site-packages\\sklearn\\model_selection\\_validation.py:372: FitFailedWarning: \n",
      "40 fits failed out of a total of 40.\n",
      "The score on these train-test partitions for these parameters will be set to nan.\n",
      "If these failures are not expected, you can try to debug them by setting error_score='raise'.\n",
      "\n",
      "Below are more details about the failures:\n",
      "--------------------------------------------------------------------------------\n",
      "40 fits failed with the following error:\n",
      "Traceback (most recent call last):\n",
      "  File \"C:\\Users\\Rohit Jain\\anaconda3\\lib\\site-packages\\sklearn\\model_selection\\_validation.py\", line 680, in _fit_and_score\n",
      "    estimator.fit(X_train, y_train, **fit_params)\n",
      "  File \"C:\\Users\\Rohit Jain\\anaconda3\\lib\\site-packages\\scikeras\\wrappers.py\", line 1494, in fit\n",
      "    super().fit(X=X, y=y, sample_weight=sample_weight, **kwargs)\n",
      "  File \"C:\\Users\\Rohit Jain\\anaconda3\\lib\\site-packages\\scikeras\\wrappers.py\", line 762, in fit\n",
      "    self._fit(\n",
      "  File \"C:\\Users\\Rohit Jain\\anaconda3\\lib\\site-packages\\scikeras\\wrappers.py\", line 918, in _fit\n",
      "    X, y = self._initialize(X, y)\n",
      "  File \"C:\\Users\\Rohit Jain\\anaconda3\\lib\\site-packages\\scikeras\\wrappers.py\", line 848, in _initialize\n",
      "    self.target_encoder_ = self.target_encoder.fit(y)\n",
      "  File \"C:\\Users\\Rohit Jain\\anaconda3\\lib\\site-packages\\scikeras\\utils\\transformers.py\", line 177, in fit\n",
      "    raise ValueError(\n",
      "ValueError: Unknown label type: continuous-multioutput.\n",
      "\n",
      "To implement support, subclass KerasClassifier and override ``target_encoder`` with a transformer that supports this label type.\n",
      "\n",
      "For information on sklearn target types, see: * https://scikit-learn.org/stable/modules/generated/sklearn.utils.multiclass.type_of_target.html * https://scikit-learn.org/stable/modules/multiclass.html\n",
      "\n",
      "For information on the SciKeras data transformation interface, see: * https://www.adriangb.com/scikeras/stable/advanced.html#data-transformers\n",
      "\n",
      "  warnings.warn(some_fits_failed_message, FitFailedWarning)\n",
      "C:\\Users\\Rohit Jain\\anaconda3\\lib\\site-packages\\sklearn\\model_selection\\_search.py:969: UserWarning: One or more of the test scores are non-finite: [nan nan nan nan nan nan nan nan]\n",
      "  warnings.warn(\n"
     ]
    },
    {
     "name": "stdout",
     "output_type": "stream",
     "text": [
      "INFO:tensorflow:Assets written to: C:\\Users\\ROHITJ~1\\AppData\\Local\\Temp\\tmpkbbeom3z\\assets\n",
      "INFO:tensorflow:Assets written to: C:\\Users\\ROHITJ~1\\AppData\\Local\\Temp\\tmpqju3wkpr\\assets\n"
     ]
    },
    {
     "ename": "ValueError",
     "evalue": "Unknown label type: continuous-multioutput.\n\nTo implement support, subclass KerasClassifier and override ``target_encoder`` with a transformer that supports this label type.\n\nFor information on sklearn target types, see: * https://scikit-learn.org/stable/modules/generated/sklearn.utils.multiclass.type_of_target.html * https://scikit-learn.org/stable/modules/multiclass.html\n\nFor information on the SciKeras data transformation interface, see: * https://www.adriangb.com/scikeras/stable/advanced.html#data-transformers",
     "output_type": "error",
     "traceback": [
      "\u001b[1;31m---------------------------------------------------------------------------\u001b[0m",
      "\u001b[1;31mValueError\u001b[0m                                Traceback (most recent call last)",
      "Input \u001b[1;32mIn [18]\u001b[0m, in \u001b[0;36m<cell line: 8>\u001b[1;34m()\u001b[0m\n\u001b[0;32m      4\u001b[0m param_grid\u001b[38;5;241m=\u001b[39m{\u001b[38;5;124m\"\u001b[39m\u001b[38;5;124mbatch_size\u001b[39m\u001b[38;5;124m\"\u001b[39m:[\u001b[38;5;241m10\u001b[39m,\u001b[38;5;241m32\u001b[39m],\u001b[38;5;124m\"\u001b[39m\u001b[38;5;124mepochs\u001b[39m\u001b[38;5;124m\"\u001b[39m:[\u001b[38;5;241m50\u001b[39m,\u001b[38;5;241m70\u001b[39m],\u001b[38;5;124m\"\u001b[39m\u001b[38;5;124moptimizer\u001b[39m\u001b[38;5;124m\"\u001b[39m:[\u001b[38;5;124m\"\u001b[39m\u001b[38;5;124madam\u001b[39m\u001b[38;5;124m\"\u001b[39m,\u001b[38;5;124m\"\u001b[39m\u001b[38;5;124mrmsprop\u001b[39m\u001b[38;5;124m\"\u001b[39m]}\n\u001b[0;32m      6\u001b[0m grid\u001b[38;5;241m=\u001b[39mGridSearchCV(estimator,param_grid,scoring\u001b[38;5;241m=\u001b[39m\u001b[38;5;124m\"\u001b[39m\u001b[38;5;124maccuracy\u001b[39m\u001b[38;5;124m\"\u001b[39m,cv\u001b[38;5;241m=\u001b[39m\u001b[38;5;241m5\u001b[39m)\n\u001b[1;32m----> 8\u001b[0m grid_result\u001b[38;5;241m=\u001b[39m\u001b[43mgrid\u001b[49m\u001b[38;5;241;43m.\u001b[39;49m\u001b[43mfit\u001b[49m\u001b[43m(\u001b[49m\u001b[43mx_train\u001b[49m\u001b[43m,\u001b[49m\u001b[43my_train\u001b[49m\u001b[43m)\u001b[49m\n\u001b[0;32m     10\u001b[0m \u001b[38;5;66;03m#best parameter\u001b[39;00m\n\u001b[0;32m     11\u001b[0m grid_result\u001b[38;5;241m.\u001b[39mbest_params_\n",
      "File \u001b[1;32m~\\anaconda3\\lib\\site-packages\\sklearn\\model_selection\\_search.py:926\u001b[0m, in \u001b[0;36mBaseSearchCV.fit\u001b[1;34m(self, X, y, groups, **fit_params)\u001b[0m\n\u001b[0;32m    924\u001b[0m refit_start_time \u001b[38;5;241m=\u001b[39m time\u001b[38;5;241m.\u001b[39mtime()\n\u001b[0;32m    925\u001b[0m \u001b[38;5;28;01mif\u001b[39;00m y \u001b[38;5;129;01mis\u001b[39;00m \u001b[38;5;129;01mnot\u001b[39;00m \u001b[38;5;28;01mNone\u001b[39;00m:\n\u001b[1;32m--> 926\u001b[0m     \u001b[38;5;28mself\u001b[39m\u001b[38;5;241m.\u001b[39mbest_estimator_\u001b[38;5;241m.\u001b[39mfit(X, y, \u001b[38;5;241m*\u001b[39m\u001b[38;5;241m*\u001b[39mfit_params)\n\u001b[0;32m    927\u001b[0m \u001b[38;5;28;01melse\u001b[39;00m:\n\u001b[0;32m    928\u001b[0m     \u001b[38;5;28mself\u001b[39m\u001b[38;5;241m.\u001b[39mbest_estimator_\u001b[38;5;241m.\u001b[39mfit(X, \u001b[38;5;241m*\u001b[39m\u001b[38;5;241m*\u001b[39mfit_params)\n",
      "File \u001b[1;32m~\\anaconda3\\lib\\site-packages\\scikeras\\wrappers.py:1494\u001b[0m, in \u001b[0;36mKerasClassifier.fit\u001b[1;34m(self, X, y, sample_weight, **kwargs)\u001b[0m\n\u001b[0;32m   1492\u001b[0m     sample_weight \u001b[38;5;241m=\u001b[39m \u001b[38;5;241m1\u001b[39m \u001b[38;5;28;01mif\u001b[39;00m sample_weight \u001b[38;5;129;01mis\u001b[39;00m \u001b[38;5;28;01mNone\u001b[39;00m \u001b[38;5;28;01melse\u001b[39;00m sample_weight\n\u001b[0;32m   1493\u001b[0m     sample_weight \u001b[38;5;241m*\u001b[39m\u001b[38;5;241m=\u001b[39m compute_sample_weight(class_weight\u001b[38;5;241m=\u001b[39m\u001b[38;5;28mself\u001b[39m\u001b[38;5;241m.\u001b[39mclass_weight, y\u001b[38;5;241m=\u001b[39my)\n\u001b[1;32m-> 1494\u001b[0m \u001b[38;5;28msuper\u001b[39m()\u001b[38;5;241m.\u001b[39mfit(X\u001b[38;5;241m=\u001b[39mX, y\u001b[38;5;241m=\u001b[39my, sample_weight\u001b[38;5;241m=\u001b[39msample_weight, \u001b[38;5;241m*\u001b[39m\u001b[38;5;241m*\u001b[39mkwargs)\n\u001b[0;32m   1495\u001b[0m \u001b[38;5;28;01mreturn\u001b[39;00m \u001b[38;5;28mself\u001b[39m\n",
      "File \u001b[1;32m~\\anaconda3\\lib\\site-packages\\scikeras\\wrappers.py:762\u001b[0m, in \u001b[0;36mBaseWrapper.fit\u001b[1;34m(self, X, y, sample_weight, **kwargs)\u001b[0m\n\u001b[0;32m    757\u001b[0m kwargs[\u001b[38;5;124m\"\u001b[39m\u001b[38;5;124mepochs\u001b[39m\u001b[38;5;124m\"\u001b[39m] \u001b[38;5;241m=\u001b[39m kwargs\u001b[38;5;241m.\u001b[39mget(\n\u001b[0;32m    758\u001b[0m     \u001b[38;5;124m\"\u001b[39m\u001b[38;5;124mepochs\u001b[39m\u001b[38;5;124m\"\u001b[39m, \u001b[38;5;28mgetattr\u001b[39m(\u001b[38;5;28mself\u001b[39m, \u001b[38;5;124m\"\u001b[39m\u001b[38;5;124mfit__epochs\u001b[39m\u001b[38;5;124m\"\u001b[39m, \u001b[38;5;28mself\u001b[39m\u001b[38;5;241m.\u001b[39mepochs)\n\u001b[0;32m    759\u001b[0m )\n\u001b[0;32m    760\u001b[0m kwargs[\u001b[38;5;124m\"\u001b[39m\u001b[38;5;124minitial_epoch\u001b[39m\u001b[38;5;124m\"\u001b[39m] \u001b[38;5;241m=\u001b[39m kwargs\u001b[38;5;241m.\u001b[39mget(\u001b[38;5;124m\"\u001b[39m\u001b[38;5;124minitial_epoch\u001b[39m\u001b[38;5;124m\"\u001b[39m, \u001b[38;5;241m0\u001b[39m)\n\u001b[1;32m--> 762\u001b[0m \u001b[38;5;28mself\u001b[39m\u001b[38;5;241m.\u001b[39m_fit(\n\u001b[0;32m    763\u001b[0m     X\u001b[38;5;241m=\u001b[39mX,\n\u001b[0;32m    764\u001b[0m     y\u001b[38;5;241m=\u001b[39my,\n\u001b[0;32m    765\u001b[0m     sample_weight\u001b[38;5;241m=\u001b[39msample_weight,\n\u001b[0;32m    766\u001b[0m     warm_start\u001b[38;5;241m=\u001b[39m\u001b[38;5;28mself\u001b[39m\u001b[38;5;241m.\u001b[39mwarm_start,\n\u001b[0;32m    767\u001b[0m     \u001b[38;5;241m*\u001b[39m\u001b[38;5;241m*\u001b[39mkwargs,\n\u001b[0;32m    768\u001b[0m )\n\u001b[0;32m    770\u001b[0m \u001b[38;5;28;01mreturn\u001b[39;00m \u001b[38;5;28mself\u001b[39m\n",
      "File \u001b[1;32m~\\anaconda3\\lib\\site-packages\\scikeras\\wrappers.py:918\u001b[0m, in \u001b[0;36mBaseWrapper._fit\u001b[1;34m(self, X, y, sample_weight, warm_start, epochs, initial_epoch, **kwargs)\u001b[0m\n\u001b[0;32m    916\u001b[0m \u001b[38;5;66;03m# Data checks\u001b[39;00m\n\u001b[0;32m    917\u001b[0m \u001b[38;5;28;01mif\u001b[39;00m \u001b[38;5;129;01mnot\u001b[39;00m ((\u001b[38;5;28mself\u001b[39m\u001b[38;5;241m.\u001b[39mwarm_start \u001b[38;5;129;01mor\u001b[39;00m warm_start) \u001b[38;5;129;01mand\u001b[39;00m \u001b[38;5;28mself\u001b[39m\u001b[38;5;241m.\u001b[39minitialized_):\n\u001b[1;32m--> 918\u001b[0m     X, y \u001b[38;5;241m=\u001b[39m \u001b[38;5;28;43mself\u001b[39;49m\u001b[38;5;241;43m.\u001b[39;49m\u001b[43m_initialize\u001b[49m\u001b[43m(\u001b[49m\u001b[43mX\u001b[49m\u001b[43m,\u001b[49m\u001b[43m \u001b[49m\u001b[43my\u001b[49m\u001b[43m)\u001b[49m\n\u001b[0;32m    919\u001b[0m \u001b[38;5;28;01melse\u001b[39;00m:\n\u001b[0;32m    920\u001b[0m     X, y \u001b[38;5;241m=\u001b[39m \u001b[38;5;28mself\u001b[39m\u001b[38;5;241m.\u001b[39m_validate_data(X, y)\n",
      "File \u001b[1;32m~\\anaconda3\\lib\\site-packages\\scikeras\\wrappers.py:848\u001b[0m, in \u001b[0;36mBaseWrapper._initialize\u001b[1;34m(self, X, y)\u001b[0m\n\u001b[0;32m    844\u001b[0m     \u001b[38;5;28mself\u001b[39m\u001b[38;5;241m.\u001b[39m_random_state \u001b[38;5;241m=\u001b[39m \u001b[38;5;28mself\u001b[39m\u001b[38;5;241m.\u001b[39mrandom_state\n\u001b[0;32m    846\u001b[0m X, y \u001b[38;5;241m=\u001b[39m \u001b[38;5;28mself\u001b[39m\u001b[38;5;241m.\u001b[39m_validate_data(X, y, reset\u001b[38;5;241m=\u001b[39m\u001b[38;5;28;01mTrue\u001b[39;00m)\n\u001b[1;32m--> 848\u001b[0m \u001b[38;5;28mself\u001b[39m\u001b[38;5;241m.\u001b[39mtarget_encoder_ \u001b[38;5;241m=\u001b[39m \u001b[38;5;28;43mself\u001b[39;49m\u001b[38;5;241;43m.\u001b[39;49m\u001b[43mtarget_encoder\u001b[49m\u001b[38;5;241;43m.\u001b[39;49m\u001b[43mfit\u001b[49m\u001b[43m(\u001b[49m\u001b[43my\u001b[49m\u001b[43m)\u001b[49m\n\u001b[0;32m    849\u001b[0m target_metadata \u001b[38;5;241m=\u001b[39m \u001b[38;5;28mgetattr\u001b[39m(\u001b[38;5;28mself\u001b[39m\u001b[38;5;241m.\u001b[39mtarget_encoder_, \u001b[38;5;124m\"\u001b[39m\u001b[38;5;124mget_metadata\u001b[39m\u001b[38;5;124m\"\u001b[39m, \u001b[38;5;28mdict\u001b[39m)()\n\u001b[0;32m    850\u001b[0m \u001b[38;5;28mvars\u001b[39m(\u001b[38;5;28mself\u001b[39m)\u001b[38;5;241m.\u001b[39mupdate(\u001b[38;5;241m*\u001b[39m\u001b[38;5;241m*\u001b[39mtarget_metadata)\n",
      "File \u001b[1;32m~\\anaconda3\\lib\\site-packages\\scikeras\\utils\\transformers.py:177\u001b[0m, in \u001b[0;36mClassifierLabelEncoder.fit\u001b[1;34m(self, y)\u001b[0m\n\u001b[0;32m    170\u001b[0m     encoders[\u001b[38;5;124m\"\u001b[39m\u001b[38;5;124mmulticlass\u001b[39m\u001b[38;5;124m\"\u001b[39m] \u001b[38;5;241m=\u001b[39m make_pipeline(\n\u001b[0;32m    171\u001b[0m         TargetReshaper(),\n\u001b[0;32m    172\u001b[0m         OneHotEncoder(\n\u001b[0;32m    173\u001b[0m             sparse\u001b[38;5;241m=\u001b[39m\u001b[38;5;28;01mFalse\u001b[39;00m, dtype\u001b[38;5;241m=\u001b[39mkeras_dtype, categories\u001b[38;5;241m=\u001b[39m\u001b[38;5;28mself\u001b[39m\u001b[38;5;241m.\u001b[39mcategories\n\u001b[0;32m    174\u001b[0m         ),\n\u001b[0;32m    175\u001b[0m     )\n\u001b[0;32m    176\u001b[0m \u001b[38;5;28;01mif\u001b[39;00m target_type \u001b[38;5;129;01mnot\u001b[39;00m \u001b[38;5;129;01min\u001b[39;00m encoders:\n\u001b[1;32m--> 177\u001b[0m     \u001b[38;5;28;01mraise\u001b[39;00m \u001b[38;5;167;01mValueError\u001b[39;00m(\n\u001b[0;32m    178\u001b[0m         \u001b[38;5;124mf\u001b[39m\u001b[38;5;124m\"\u001b[39m\u001b[38;5;124mUnknown label type: \u001b[39m\u001b[38;5;132;01m{\u001b[39;00mtarget_type\u001b[38;5;132;01m}\u001b[39;00m\u001b[38;5;124m.\u001b[39m\u001b[38;5;124m\"\u001b[39m\n\u001b[0;32m    179\u001b[0m         \u001b[38;5;124m\"\u001b[39m\u001b[38;5;130;01m\\n\u001b[39;00m\u001b[38;5;130;01m\\n\u001b[39;00m\u001b[38;5;124mTo implement support, subclass KerasClassifier and override\u001b[39m\u001b[38;5;124m\"\u001b[39m\n\u001b[0;32m    180\u001b[0m         \u001b[38;5;124m\"\u001b[39m\u001b[38;5;124m ``target_encoder`` with a transformer that supports this\u001b[39m\u001b[38;5;124m\"\u001b[39m\n\u001b[0;32m    181\u001b[0m         \u001b[38;5;124m\"\u001b[39m\u001b[38;5;124m label type.\u001b[39m\u001b[38;5;124m\"\u001b[39m\n\u001b[0;32m    182\u001b[0m         \u001b[38;5;124m\"\u001b[39m\u001b[38;5;130;01m\\n\u001b[39;00m\u001b[38;5;130;01m\\n\u001b[39;00m\u001b[38;5;124mFor information on sklearn target types, see:\u001b[39m\u001b[38;5;124m\"\u001b[39m\n\u001b[0;32m    183\u001b[0m         \u001b[38;5;124m\"\u001b[39m\u001b[38;5;124m * https://scikit-learn.org/stable/modules/generated/sklearn.utils.multiclass.type_of_target.html\u001b[39m\u001b[38;5;124m\"\u001b[39m\n\u001b[0;32m    184\u001b[0m         \u001b[38;5;124m\"\u001b[39m\u001b[38;5;124m * https://scikit-learn.org/stable/modules/multiclass.html\u001b[39m\u001b[38;5;124m\"\u001b[39m\n\u001b[0;32m    185\u001b[0m         \u001b[38;5;124m\"\u001b[39m\u001b[38;5;130;01m\\n\u001b[39;00m\u001b[38;5;130;01m\\n\u001b[39;00m\u001b[38;5;124mFor information on the SciKeras data transformation interface, see:\u001b[39m\u001b[38;5;124m\"\u001b[39m\n\u001b[0;32m    186\u001b[0m         \u001b[38;5;124m\"\u001b[39m\u001b[38;5;124m * https://www.adriangb.com/scikeras/stable/advanced.html#data-transformers\u001b[39m\u001b[38;5;124m\"\u001b[39m\n\u001b[0;32m    187\u001b[0m     )\n\u001b[0;32m    188\u001b[0m \u001b[38;5;28mself\u001b[39m\u001b[38;5;241m.\u001b[39m_final_encoder \u001b[38;5;241m=\u001b[39m encoders[target_type]\u001b[38;5;241m.\u001b[39mfit(y)\n\u001b[0;32m    190\u001b[0m \u001b[38;5;28;01mif\u001b[39;00m (\n\u001b[0;32m    191\u001b[0m     target_type \u001b[38;5;241m==\u001b[39m \u001b[38;5;124m\"\u001b[39m\u001b[38;5;124mmultilabel-indicator\u001b[39m\u001b[38;5;124m\"\u001b[39m\n\u001b[0;32m    192\u001b[0m     \u001b[38;5;129;01mand\u001b[39;00m y\u001b[38;5;241m.\u001b[39mmin() \u001b[38;5;241m==\u001b[39m \u001b[38;5;241m0\u001b[39m\n\u001b[0;32m    193\u001b[0m     \u001b[38;5;129;01mand\u001b[39;00m (y\u001b[38;5;241m.\u001b[39msum(axis\u001b[38;5;241m=\u001b[39m\u001b[38;5;241m1\u001b[39m) \u001b[38;5;241m==\u001b[39m \u001b[38;5;241m1\u001b[39m)\u001b[38;5;241m.\u001b[39mall()\n\u001b[0;32m    194\u001b[0m ):\n",
      "\u001b[1;31mValueError\u001b[0m: Unknown label type: continuous-multioutput.\n\nTo implement support, subclass KerasClassifier and override ``target_encoder`` with a transformer that supports this label type.\n\nFor information on sklearn target types, see: * https://scikit-learn.org/stable/modules/generated/sklearn.utils.multiclass.type_of_target.html * https://scikit-learn.org/stable/modules/multiclass.html\n\nFor information on the SciKeras data transformation interface, see: * https://www.adriangb.com/scikeras/stable/advanced.html#data-transformers"
     ]
    }
   ],
   "source": [
    "from sklearn.model_selection import GridSearchCV\n",
    "estimator= KerasClassifier(build_cross_classifier())\n",
    "\n",
    "param_grid={\"batch_size\":[10,32],\"epochs\":[50,70],\"optimizer\":[\"adam\",\"rmsprop\"]}\n",
    "\n",
    "grid=GridSearchCV(estimator,param_grid,scoring=\"accuracy\",cv=5)\n",
    "\n",
    "grid_result=grid.fit(x_train,y_train)\n",
    "\n",
    "#best parameter\n",
    "grid_result.best_params_\n",
    "\n",
    "#best accuracy\n",
    "grid_result.best_score_"
   ]
  },
  {
   "cell_type": "code",
   "execution_count": null,
   "id": "9f85d0db",
   "metadata": {},
   "outputs": [],
   "source": []
  },
  {
   "cell_type": "code",
   "execution_count": null,
   "id": "db200a26",
   "metadata": {},
   "outputs": [],
   "source": []
  },
  {
   "cell_type": "code",
   "execution_count": null,
   "id": "bb31c359",
   "metadata": {},
   "outputs": [],
   "source": []
  },
  {
   "cell_type": "code",
   "execution_count": null,
   "id": "21c30e18",
   "metadata": {},
   "outputs": [],
   "source": []
  }
 ],
 "metadata": {
  "kernelspec": {
   "display_name": "Python 3 (ipykernel)",
   "language": "python",
   "name": "python3"
  },
  "language_info": {
   "codemirror_mode": {
    "name": "ipython",
    "version": 3
   },
   "file_extension": ".py",
   "mimetype": "text/x-python",
   "name": "python",
   "nbconvert_exporter": "python",
   "pygments_lexer": "ipython3",
   "version": "3.9.12"
  }
 },
 "nbformat": 4,
 "nbformat_minor": 5
}
