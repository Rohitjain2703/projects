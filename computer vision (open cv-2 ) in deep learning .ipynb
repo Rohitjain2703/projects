{
 "cells": [
  {
   "cell_type": "markdown",
   "id": "92b4c351",
   "metadata": {},
   "source": [
    "# computer vision open cv project "
   ]
  },
  {
   "cell_type": "code",
   "execution_count": null,
   "id": "e6ee30fd",
   "metadata": {},
   "outputs": [],
   "source": [
    "pip install opencv-python"
   ]
  },
  {
   "cell_type": "code",
   "execution_count": null,
   "id": "6e45060d",
   "metadata": {},
   "outputs": [],
   "source": [
    "import cv2\n",
    "import numpy as np"
   ]
  },
  {
   "cell_type": "markdown",
   "id": "e7bb350f",
   "metadata": {},
   "source": [
    "# load /read image"
   ]
  },
  {
   "cell_type": "code",
   "execution_count": null,
   "id": "38b694b7",
   "metadata": {},
   "outputs": [],
   "source": [
    "#load on image using \"imread\" specifyingthe path to image\n",
    "img=cv2.imread(\"Downloads/Modi.jpg\")"
   ]
  },
  {
   "cell_type": "markdown",
   "id": "e5dce2c5",
   "metadata": {},
   "source": [
    "# lets tske a closer look at how image are stored"
   ]
  },
  {
   "cell_type": "code",
   "execution_count": null,
   "id": "ac1a3f15",
   "metadata": {},
   "outputs": [],
   "source": [
    "print(img)"
   ]
  },
  {
   "cell_type": "markdown",
   "id": "e657a2e5",
   "metadata": {},
   "source": [
    "# shape gives the dimensions of the image array"
   ]
  },
  {
   "cell_type": "code",
   "execution_count": null,
   "id": "221e7fbe",
   "metadata": {},
   "outputs": [],
   "source": [
    "img.shape"
   ]
  },
  {
   "cell_type": "markdown",
   "id": "0c234244",
   "metadata": {},
   "source": [
    "# display the image "
   ]
  },
  {
   "cell_type": "code",
   "execution_count": null,
   "id": "ad85b738",
   "metadata": {},
   "outputs": [],
   "source": [
    "#to display our iamges varible we usr imshow fun \n",
    "#the frist parameter will be title show on image windom\n",
    "#the 2nd parameter is the image varible \n",
    "cv2.imshow(\"PM\",img)\n",
    "\n",
    "#waitkey allows us to inplut infomation when a images windos is open \n",
    "#by leaving it blank it just waits for anykey to be preasd before continuing\n",
    "#by placning number (except 0) we can spectfy a dely for\n",
    "#how long you keep the window open (time is in millesecond here)\n",
    "\n",
    "cv2.waitKey(2000)\n",
    "\n",
    "#this closes allopen windows \n",
    "#failure to places this will cause your program to hang \n",
    "\n",
    "cv2.destroyAllWindows()\n"
   ]
  },
  {
   "cell_type": "code",
   "execution_count": null,
   "id": "a26784c7",
   "metadata": {},
   "outputs": [],
   "source": [
    "img=cv2.imread(\"Downloads/Modi.jpg\")\n",
    "cv2.imshow(\"PM\",img)\n",
    "cv2.waitKey(2000)\n",
    "cv2.destroyAllWindows()"
   ]
  },
  {
   "cell_type": "markdown",
   "id": "354e6f4d",
   "metadata": {},
   "source": [
    "# save images"
   ]
  },
  {
   "cell_type": "code",
   "execution_count": null,
   "id": "bd7e9614",
   "metadata": {},
   "outputs": [],
   "source": [
    "#simply use \"imwrite\" file name saved to be images\n",
    "cv2.imwrite(\"pm_b_.jpg\",img)"
   ]
  },
  {
   "cell_type": "markdown",
   "id": "036d4655",
   "metadata": {},
   "source": [
    "# resize the images"
   ]
  },
  {
   "cell_type": "code",
   "execution_count": null,
   "id": "8a891006",
   "metadata": {},
   "outputs": [],
   "source": [
    "img=cv2.imread(\"Downloads/Modi.jpg\")\n",
    "resized_img=cv2.resize(img,(500,500))\n",
    "\n",
    "gray=cv2.cvtColor(resized_img,cv2.COLOR_BGR2GRAY)\n",
    "cv2.imshow(\"Modi.jpg\",gray)\n",
    "\n",
    "cv2.waitKey(1000)\n",
    "cv2.destroyAllWindows()"
   ]
  },
  {
   "cell_type": "code",
   "execution_count": null,
   "id": "1778a73f",
   "metadata": {},
   "outputs": [],
   "source": [
    "img.shape[0]*0.5"
   ]
  },
  {
   "cell_type": "code",
   "execution_count": null,
   "id": "701e2d58",
   "metadata": {},
   "outputs": [],
   "source": [
    "img.shape[1]*0.5"
   ]
  },
  {
   "cell_type": "markdown",
   "id": "6ad0a2a5",
   "metadata": {},
   "source": [
    "# face detection using HAAR CASCADE CLASSIFIER"
   ]
  },
  {
   "cell_type": "code",
   "execution_count": null,
   "id": "74d241c6",
   "metadata": {},
   "outputs": [],
   "source": [
    "face_classifier=cv2.CascadeClassifier(\"Downloads//haarcascade_frontalface_default.xml)\n",
    "#load our image then covert it to graysca\n",
    "image=cv2.imread(\"Downloads/Modi.jpg\")\n",
    "image=cv2.resize(img,(500,500))\n",
    "gray=cv2.cvtColor(image,cv2.COLOR_BGR2GRAY)\n",
    "##tuning casede classifier -detectmultiscaler (imput image,**scale factor**,\"min neighbors\")                                     \n",
    "faces=face_classifier.detectMultiScale(gray,1.05,5)                                      \n",
    "                                      \n",
    "                                      \n",
    "                                      \n",
    "                                      \n",
    "                                      \n",
    "                                      \n",
    "                                      \n",
    "                                      "
   ]
  },
  {
   "cell_type": "code",
   "execution_count": null,
   "id": "04be8372",
   "metadata": {},
   "outputs": [],
   "source": [
    "print(faces)"
   ]
  },
  {
   "cell_type": "code",
   "execution_count": null,
   "id": "9559ce8b",
   "metadata": {},
   "outputs": [],
   "source": [
    "face_classifier=cv2.CascadeClassifier(\"Downloads/haarcascade_frontalface_default.xml\")\n",
    "image=cv2.imread(\"Downloads/Modi.jpg\")\n",
    "image=cv2.resize(img,(500,500))\n",
    "gray=cv2.cvtColor(image,cv2.COLOR_BGR2GRAY)\n",
    "faces=face_classifier.detectMultiScale(gray,1.05,5)                                      \n",
    "if faces is ():\n",
    "    print(\"no found faces\")\n",
    "\n",
    "for (x,y,w,h) in faces:\n",
    "    cv2.rectangle(image,(x,y),(x+w,y+h),(0,255,100),1)\n",
    "\n",
    "cv2.imshow(\"face detection\",image)\n",
    "cv2.waitKey()\n",
    "cv2.destroyAllWindows()\n",
    "        "
   ]
  },
  {
   "cell_type": "markdown",
   "id": "f6c92a75",
   "metadata": {},
   "source": [
    "# face and eye detection using HAAR CASCADE CLASSIFIER IN IMAGE "
   ]
  },
  {
   "cell_type": "code",
   "execution_count": null,
   "id": "02fd4e2d",
   "metadata": {},
   "outputs": [],
   "source": [
    "face_classifier=cv2.CascadeClassifier(\"Downloads/haarcascade_frontalface_default.xml\")\n",
    "eye_classifier=cv2.CascadeClassifier(\"Downloads/haarcascade_eye.xml\")\n",
    "img=cv2.imread(\"Downloads/Modi.jpg\")\n",
    "resized_img=cv2.resize(img,(500,500))\n",
    "gray=cv2.cvtColor(image,cv2.COLOR_BGR2GRAY)\n",
    "faces=face_classifier.detectMultiScale(gray,1.3,5) \n",
    "\n",
    "#when no faces detected face _classifier retunres and empty tuple \n",
    "if faces is ():\n",
    "    print(\"no found faces\")\n",
    "\n",
    "for (x,y,w,h) in faces:\n",
    "    cv2.rectangle(resized_img,(x,y),(x+w,y+h),(0,0,0),2)\n",
    "    roi_gray=gray[y:y+h,x:x+w]\n",
    "    roi_color=resized_img[y:y+h,x:x+w]\n",
    "    eyes=eye_classifier.detectMultiScale(roi_gray)\n",
    "    for (ex,ey,ew,eh) in eyes:\n",
    "        cv2.rectangle(roi_color,(ex,ey),(ex+ew,ey+eh),(1000,255,0),2)\n",
    "\n",
    "        \n",
    "cv2.imshow(\"img\",resized_img)\n",
    "cv2.waitKey(0)\n",
    "cv2.destroyAllWindows()"
   ]
  },
  {
   "cell_type": "markdown",
   "id": "2a21c3c8",
   "metadata": {},
   "source": [
    "# capture a video "
   ]
  },
  {
   "cell_type": "code",
   "execution_count": null,
   "id": "b13baf6e",
   "metadata": {},
   "outputs": [],
   "source": [
    "#doing same face recognition with the webcom\n",
    "\n",
    "import cv2\n",
    "video=cv2.VideoCapture(0)#----webcom\n",
    "\n",
    "while True:\n",
    "    check, frame=video.read()\n",
    "    gray=cv2.cvtColor(frame,cv2.COLOR_BGR2GRAY)\n",
    "    cv2.imshow(\"video\",frame)\n",
    "    if cv2.waitKey(1)==ord(\"q\"):\n",
    "        break\n",
    "video.release()\n",
    "cv2.destroyAllWindows()"
   ]
  },
  {
   "cell_type": "markdown",
   "id": "82c259fc",
   "metadata": {},
   "source": [
    "# face & eye detection using HAAR Cascade classifier"
   ]
  },
  {
   "cell_type": "code",
   "execution_count": null,
   "id": "803fb575",
   "metadata": {},
   "outputs": [],
   "source": [
    "#defing afunction  that will detection \n",
    "face_cascade=cv2.CascadeClassifier(\"Downloads/haarcascade_frontalface_default.xml\")\n",
    "eye_cascade=cv2.CascadeClassifier(\"Downloads/haarcascade_eye.xml\")\n",
    "\n",
    "\n",
    "def detect(gray,frame):\n",
    "    faces=face_cascade.detectMultiScale(gray,1.3,5)\n",
    "    for(x,y,w,h) in faces:\n",
    "        cv2.rectangle(resized_img,(x,y),(x+w,y+h),(255,0,0),2)\n",
    "        roi_gray=gray[y:y+h,x:x+w]\n",
    "        roi_color=frame[y:y+h,x:x+w]\n",
    "        eyes=eye_cascade.detectMultiScale(roi_gray,1.1,3)\n",
    "        for (ex,ey,ew,eh) in eyes:\n",
    "            \n",
    "            cv2.rectangle(roi_color,(ex,ey),(ex+ew,ey+eh),(0,255,0),2)\n",
    "    return frame\n",
    "\n",
    "\n",
    "#doing some face recognition with the webcam\n",
    "video=cv2.VideoCapture(0)\n",
    "\n",
    "while True:\n",
    "    check,frame=video.read()\n",
    "    gray=cv2.cvtColor(frame,cv2.COLOR_BGR2GRAY)\n",
    "    canvas=detect(gray,frame)\n",
    "    cv2.imshow(\"video\", canvas)\n",
    "    if cv2.waitKey(1)==ord(\"q\"):\n",
    "        break\n",
    "        \n",
    "video.release()\n",
    "cv2.destroyAllWindows()\n"
   ]
  },
  {
   "cell_type": "markdown",
   "id": "668bc16c",
   "metadata": {},
   "source": [
    "# pedistrain detection\n"
   ]
  },
  {
   "cell_type": "code",
   "execution_count": null,
   "id": "6c904470",
   "metadata": {},
   "outputs": [],
   "source": [
    "import cv2\n",
    "\n",
    "#create our body classifier\n",
    "body_classifier=cv2.CascadeClassifier(\"Downloads/haarcascade_fullbody.xml\")\n",
    "\n",
    "#initiate video capture for video filr\n",
    "cap=cv2.VideoCapture(\"Downloads/walking.avi\")\n",
    "\n",
    "#loop once video is suucessfully loaded\n",
    "while cap.isOpened():\n",
    "    #read 1st freame\n",
    "    check,frame=cap.read()\n",
    "    gray=cv2.cvtColor(frame,cv2.COLOR_BGR2GRAY)\n",
    "    \n",
    "    #pass frame to ure body classifier\n",
    "    bodies=body_classifier.detectMultiScale(gray,1.2,3)\n",
    "    \n",
    "    #extrat bounding boesx for any bodies idetenfication\n",
    "    for (x,y,w,h) in bodies:\n",
    "        cv2.rectangle(frame,(x,y),(x+w,y+h),(255,255,0),2)\n",
    "        cv2.imshow(\"pedestrians\",frame)\n",
    "    if cv2.waitKey(1)==ord(\"q\"):\n",
    "        break\n",
    "cap.release()\n",
    "cv2.destroyAllWindows()\n"
   ]
  },
  {
   "cell_type": "markdown",
   "id": "ce442ba2",
   "metadata": {},
   "source": [
    "# this is same program upp side program this like car up side body "
   ]
  },
  {
   "cell_type": "code",
   "execution_count": null,
   "id": "f976a8be",
   "metadata": {},
   "outputs": [],
   "source": [
    "import  time\n",
    "#create our body classifier\n",
    "car_classifier=cv2.CascadeClassifier(\"Downloads/haarcascade_car.xml\")\n",
    "cap=cv2.VideoCapture(\"Downloads/cars.avi\")\n",
    "\n",
    "\n",
    "\n",
    "#loop once video is suucessfully loaded\n",
    "while cap.isOpened():\n",
    "    time.sleep(.05)\n",
    "    #read 1st freame\n",
    "    check,frame=cap.read()\n",
    "    gray=cv2.cvtColor(frame,cv2.COLOR_BGR2GRAY)\n",
    "    \n",
    "    #pass frame to ure body classifier\n",
    "    car=car_classifier.detectMultiScale(gray,1.9,5)\n",
    "    \n",
    "    #extrat bounding boesx for any bodies idetenfication\n",
    "    for (x,y,w,h) in car:\n",
    "        cv2.rectangle(frame,(x,y),(x+w,y+h),(255,255,0),2)\n",
    "        cv2.imshow(\"cars\",frame)\n",
    "    if cv2.waitKey(1)==ord(\"q\"):\n",
    "        break\n",
    "cap.release()\n",
    "cv2.destroyAllWindows()\n"
   ]
  },
  {
   "cell_type": "code",
   "execution_count": null,
   "id": "9a54870b",
   "metadata": {},
   "outputs": [],
   "source": []
  }
 ],
 "metadata": {
  "kernelspec": {
   "display_name": "Python 3 (ipykernel)",
   "language": "python",
   "name": "python3"
  },
  "language_info": {
   "codemirror_mode": {
    "name": "ipython",
    "version": 3
   },
   "file_extension": ".py",
   "mimetype": "text/x-python",
   "name": "python",
   "nbconvert_exporter": "python",
   "pygments_lexer": "ipython3",
   "version": "3.9.12"
  }
 },
 "nbformat": 4,
 "nbformat_minor": 5
}
