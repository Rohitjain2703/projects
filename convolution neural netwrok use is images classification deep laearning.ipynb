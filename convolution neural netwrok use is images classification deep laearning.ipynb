{
 "cells": [
  {
   "cell_type": "markdown",
   "id": "93eeb121",
   "metadata": {},
   "source": [
    "# convolution neural netwrok use is images classification deep laearning "
   ]
  },
  {
   "cell_type": "code",
   "execution_count": 1,
   "id": "dd9042f3",
   "metadata": {},
   "outputs": [],
   "source": [
    "import tensorflow as tf\n",
    "import keras"
   ]
  },
  {
   "cell_type": "markdown",
   "id": "63bebe93",
   "metadata": {},
   "source": [
    "# images data preprocessing"
   ]
  },
  {
   "cell_type": "code",
   "execution_count": 2,
   "id": "c34b483a",
   "metadata": {},
   "outputs": [],
   "source": [
    "from keras.preprocessing.image import ImageDataGenerator"
   ]
  },
  {
   "cell_type": "markdown",
   "id": "d246a8ee",
   "metadata": {},
   "source": [
    "# preprocessing in the training set "
   ]
  },
  {
   "cell_type": "code",
   "execution_count": 3,
   "id": "7410d6cc",
   "metadata": {},
   "outputs": [],
   "source": [
    "gen=ImageDataGenerator(rescale=1/255,shear_range=0.2,zoom_range=0.2)"
   ]
  },
  {
   "cell_type": "code",
   "execution_count": 4,
   "id": "ec4d5448",
   "metadata": {},
   "outputs": [
    {
     "name": "stdout",
     "output_type": "stream",
     "text": [
      "Found 8048 images belonging to 2 classes.\n"
     ]
    }
   ],
   "source": [
    "training_set=gen.flow_from_directory(\"C:\\\\Users\\\\Rohit Jain\\\\Downloads\\\\training_set\\\\training_set\",target_size=(64,64),class_mode=\"binary\")"
   ]
  },
  {
   "cell_type": "code",
   "execution_count": 5,
   "id": "7ef8a9c7",
   "metadata": {},
   "outputs": [
    {
     "data": {
      "text/plain": [
       "{'cats': 0, 'dogs': 1}"
      ]
     },
     "execution_count": 5,
     "metadata": {},
     "output_type": "execute_result"
    }
   ],
   "source": [
    "training_set.class_indices"
   ]
  },
  {
   "cell_type": "markdown",
   "id": "0288d31c",
   "metadata": {},
   "source": [
    "# preprocessing in the test set"
   ]
  },
  {
   "cell_type": "code",
   "execution_count": 6,
   "id": "4ea16a80",
   "metadata": {},
   "outputs": [],
   "source": [
    "test_datagen=ImageDataGenerator(rescale=1/255)\n"
   ]
  },
  {
   "cell_type": "code",
   "execution_count": 7,
   "id": "2b777e8e",
   "metadata": {},
   "outputs": [
    {
     "name": "stdout",
     "output_type": "stream",
     "text": [
      "Found 2000 images belonging to 2 classes.\n"
     ]
    }
   ],
   "source": [
    "test_set=test_datagen.flow_from_directory(\"C:\\\\Users\\\\Rohit Jain\\\\Downloads\\\\test_set-20221114T185812Z-001\\\\test_set\",target_size=(64,64),class_mode=\"binary\")"
   ]
  },
  {
   "cell_type": "markdown",
   "id": "21bc68e3",
   "metadata": {},
   "source": [
    "# modeling build the convolution neural network "
   ]
  },
  {
   "cell_type": "code",
   "execution_count": 8,
   "id": "d1fb12b1",
   "metadata": {},
   "outputs": [],
   "source": [
    "#initialising the cnn \n",
    "from keras.models import Sequential\n",
    "classifier=Sequential()"
   ]
  },
  {
   "cell_type": "markdown",
   "id": "55dab669",
   "metadata": {},
   "source": [
    "# step 1convolution "
   ]
  },
  {
   "cell_type": "code",
   "execution_count": 9,
   "id": "bc3e2a54",
   "metadata": {},
   "outputs": [],
   "source": [
    "from keras.layers import Conv2D\n",
    "classifier.add(Conv2D(filters=32,kernel_size=3,activation=\"relu\",input_shape=[64,64,3]))\n"
   ]
  },
  {
   "cell_type": "markdown",
   "id": "172fa4a2",
   "metadata": {},
   "source": [
    "# step 2  pooling "
   ]
  },
  {
   "cell_type": "code",
   "execution_count": 10,
   "id": "c141ad22",
   "metadata": {},
   "outputs": [],
   "source": [
    "from keras.layers import MaxPooling2D\n",
    "classifier.add(MaxPooling2D(pool_size=2,strides=2))"
   ]
  },
  {
   "cell_type": "markdown",
   "id": "d435cfd4",
   "metadata": {},
   "source": [
    "# adding a 2nd convolution layer for best accuracy while using filter use this one also if model is overfit using filter usee this "
   ]
  },
  {
   "cell_type": "code",
   "execution_count": 11,
   "id": "c0420a18",
   "metadata": {},
   "outputs": [],
   "source": [
    "#adding a 2nd convolution layer for best accuracy while using filter use this one also if model is overfit using filter usee this \n",
    "classifier.add(Conv2D(filters=32,kernel_size=3,activation=\"relu\"))\n",
    "classifier.add(MaxPooling2D(pool_size=2,strides=2))"
   ]
  },
  {
   "cell_type": "markdown",
   "id": "3b38a161",
   "metadata": {},
   "source": [
    "# stpe 3 flatting "
   ]
  },
  {
   "cell_type": "code",
   "execution_count": 12,
   "id": "291c00fc",
   "metadata": {},
   "outputs": [],
   "source": [
    "from keras.layers import Flatten\n",
    "classifier.add(Flatten())"
   ]
  },
  {
   "cell_type": "markdown",
   "id": "902e3ca5",
   "metadata": {},
   "source": [
    "# full coonecction "
   ]
  },
  {
   "cell_type": "code",
   "execution_count": 13,
   "id": "4fd4bd84",
   "metadata": {},
   "outputs": [],
   "source": [
    "from keras.layers import Dense\n",
    "classifier.add(Dense(units=128,activation=\"relu\"))# hidden layer with 128\n",
    "classifier.add(Dense(units=1,activation=\"sigmoid\"))# output layer 1 neurons"
   ]
  },
  {
   "cell_type": "markdown",
   "id": "56c8be89",
   "metadata": {},
   "source": [
    "# compling the CNN "
   ]
  },
  {
   "cell_type": "code",
   "execution_count": 14,
   "id": "7cd02436",
   "metadata": {},
   "outputs": [],
   "source": [
    "classifier.compile(optimizer=\"adam\",loss=\"binary_crossentropy\",metrics=[\"accuracy\"])"
   ]
  },
  {
   "cell_type": "markdown",
   "id": "437a7c1f",
   "metadata": {},
   "source": [
    "# training the cnn model with train data "
   ]
  },
  {
   "cell_type": "code",
   "execution_count": 15,
   "id": "be69ad73",
   "metadata": {},
   "outputs": [
    {
     "name": "stdout",
     "output_type": "stream",
     "text": [
      "Epoch 1/2\n",
      "252/252 [==============================] - 57s 223ms/step - loss: 0.6683 - accuracy: 0.5793 - val_loss: 0.5982 - val_accuracy: 0.6885\n",
      "Epoch 2/2\n",
      "252/252 [==============================] - 56s 221ms/step - loss: 0.5968 - accuracy: 0.6781 - val_loss: 0.5772 - val_accuracy: 0.7020\n"
     ]
    },
    {
     "data": {
      "text/plain": [
       "<keras.callbacks.History at 0x1bce29507c0>"
      ]
     },
     "execution_count": 15,
     "metadata": {},
     "output_type": "execute_result"
    }
   ],
   "source": [
    "classifier.fit(x=training_set,validation_data=test_set,epochs=2)"
   ]
  },
  {
   "cell_type": "markdown",
   "id": "cb5cb43e",
   "metadata": {},
   "source": [
    "# evalution making on single prediction "
   ]
  },
  {
   "cell_type": "code",
   "execution_count": 16,
   "id": "7799e4db",
   "metadata": {},
   "outputs": [],
   "source": [
    "import numpy as np\n",
    "from PIL import Image"
   ]
  },
  {
   "cell_type": "code",
   "execution_count": 20,
   "id": "cc1c6009",
   "metadata": {},
   "outputs": [],
   "source": [
    "test_image=Image.open(\"C:\\\\Users\\Rohit Jain\\\\Downloads\\\\single_prediction-20221114T185803Z-001\\\\single_prediction\\\\cat_or_dog_1.jpg\")\n",
    "test_image=test_image.resize((64,64))\n",
    "test_image=np.array(test_image)\n",
    "test_image=np.expand_dims(test_image,axis=0)"
   ]
  },
  {
   "cell_type": "code",
   "execution_count": 22,
   "id": "83fae069",
   "metadata": {},
   "outputs": [
    {
     "name": "stdout",
     "output_type": "stream",
     "text": [
      "1/1 [==============================] - 0s 45ms/step\n"
     ]
    }
   ],
   "source": [
    "result=classifier.predict(test_image)"
   ]
  },
  {
   "cell_type": "code",
   "execution_count": 23,
   "id": "8a01b965",
   "metadata": {},
   "outputs": [
    {
     "name": "stdout",
     "output_type": "stream",
     "text": [
      "dog\n"
     ]
    }
   ],
   "source": [
    "if result[0][0]==1:\n",
    "    print(\"dog\")\n",
    "else:\n",
    "    print(\"cat\")"
   ]
  },
  {
   "cell_type": "code",
   "execution_count": 25,
   "id": "a18ebc18",
   "metadata": {},
   "outputs": [
    {
     "name": "stdout",
     "output_type": "stream",
     "text": [
      "1/1 [==============================] - 0s 38ms/step\n",
      "dog\n"
     ]
    }
   ],
   "source": [
    "test_image=Image.open(\"C:\\\\Users\\\\Rohit Jain\\\\Downloads\\\\single_prediction-20221114T185803Z-001\\\\single_prediction\\\\cat.jpg\")\n",
    "test_image=test_image.resize((64,64))\n",
    "test_image=np.array(test_image)\n",
    "test_image=np.expand_dims(test_image,axis=0)\n",
    "result=classifier.predict(test_image)\n",
    "if result[0][0]==1:\n",
    "    print(\"dog\")\n",
    "else:\n",
    "    print(\"cat\")"
   ]
  },
  {
   "cell_type": "code",
   "execution_count": null,
   "id": "43d326d9",
   "metadata": {},
   "outputs": [],
   "source": []
  }
 ],
 "metadata": {
  "kernelspec": {
   "display_name": "Python 3 (ipykernel)",
   "language": "python",
   "name": "python3"
  },
  "language_info": {
   "codemirror_mode": {
    "name": "ipython",
    "version": 3
   },
   "file_extension": ".py",
   "mimetype": "text/x-python",
   "name": "python",
   "nbconvert_exporter": "python",
   "pygments_lexer": "ipython3",
   "version": "3.9.12"
  }
 },
 "nbformat": 4,
 "nbformat_minor": 5
}
