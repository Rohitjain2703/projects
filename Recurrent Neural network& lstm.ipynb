{
 "cells": [
  {
   "cell_type": "markdown",
   "id": "3cda23c2",
   "metadata": {},
   "source": [
    "# Recurrent Neural network "
   ]
  },
  {
   "cell_type": "markdown",
   "id": "6958ac82",
   "metadata": {},
   "source": [
    "#part 1 data preprocessing "
   ]
  },
  {
   "cell_type": "markdown",
   "id": "9f945e52",
   "metadata": {},
   "source": [
    "import the lib"
   ]
  },
  {
   "cell_type": "code",
   "execution_count": 1,
   "id": "f4f4da70",
   "metadata": {},
   "outputs": [],
   "source": [
    "import numpy as np \n",
    "import pandas as pd\n",
    "import matplotlib.pyplot as plt"
   ]
  },
  {
   "cell_type": "markdown",
   "id": "5dc559da",
   "metadata": {},
   "source": [
    "import the training set"
   ]
  },
  {
   "cell_type": "code",
   "execution_count": 2,
   "id": "64e4a342",
   "metadata": {},
   "outputs": [
    {
     "data": {
      "text/html": [
       "<div>\n",
       "<style scoped>\n",
       "    .dataframe tbody tr th:only-of-type {\n",
       "        vertical-align: middle;\n",
       "    }\n",
       "\n",
       "    .dataframe tbody tr th {\n",
       "        vertical-align: top;\n",
       "    }\n",
       "\n",
       "    .dataframe thead th {\n",
       "        text-align: right;\n",
       "    }\n",
       "</style>\n",
       "<table border=\"1\" class=\"dataframe\">\n",
       "  <thead>\n",
       "    <tr style=\"text-align: right;\">\n",
       "      <th></th>\n",
       "      <th>Date</th>\n",
       "      <th>Open</th>\n",
       "      <th>High</th>\n",
       "      <th>Low</th>\n",
       "      <th>Close</th>\n",
       "      <th>Volume</th>\n",
       "    </tr>\n",
       "  </thead>\n",
       "  <tbody>\n",
       "    <tr>\n",
       "      <th>0</th>\n",
       "      <td>01-03-2012</td>\n",
       "      <td>325.25</td>\n",
       "      <td>332.83</td>\n",
       "      <td>324.97</td>\n",
       "      <td>663.59</td>\n",
       "      <td>73,80,500</td>\n",
       "    </tr>\n",
       "    <tr>\n",
       "      <th>1</th>\n",
       "      <td>01-04-2012</td>\n",
       "      <td>331.27</td>\n",
       "      <td>333.87</td>\n",
       "      <td>329.08</td>\n",
       "      <td>666.45</td>\n",
       "      <td>57,49,400</td>\n",
       "    </tr>\n",
       "    <tr>\n",
       "      <th>2</th>\n",
       "      <td>01-05-2012</td>\n",
       "      <td>329.83</td>\n",
       "      <td>330.75</td>\n",
       "      <td>326.89</td>\n",
       "      <td>657.21</td>\n",
       "      <td>65,90,300</td>\n",
       "    </tr>\n",
       "    <tr>\n",
       "      <th>3</th>\n",
       "      <td>01-06-2012</td>\n",
       "      <td>328.34</td>\n",
       "      <td>328.77</td>\n",
       "      <td>323.68</td>\n",
       "      <td>648.24</td>\n",
       "      <td>54,05,900</td>\n",
       "    </tr>\n",
       "    <tr>\n",
       "      <th>4</th>\n",
       "      <td>01-09-2012</td>\n",
       "      <td>322.04</td>\n",
       "      <td>322.29</td>\n",
       "      <td>309.46</td>\n",
       "      <td>620.76</td>\n",
       "      <td>1,16,88,800</td>\n",
       "    </tr>\n",
       "  </tbody>\n",
       "</table>\n",
       "</div>"
      ],
      "text/plain": [
       "         Date    Open    High     Low   Close       Volume\n",
       "0  01-03-2012  325.25  332.83  324.97  663.59    73,80,500\n",
       "1  01-04-2012  331.27  333.87  329.08  666.45    57,49,400\n",
       "2  01-05-2012  329.83  330.75  326.89  657.21    65,90,300\n",
       "3  01-06-2012  328.34  328.77  323.68  648.24    54,05,900\n",
       "4  01-09-2012  322.04  322.29  309.46  620.76  1,16,88,800"
      ]
     },
     "execution_count": 2,
     "metadata": {},
     "output_type": "execute_result"
    }
   ],
   "source": [
    "ds_train=pd.read_csv(\"Google_Stock_Price_Train.csv\")\n",
    "ds_train.head()"
   ]
  },
  {
   "cell_type": "code",
   "execution_count": 3,
   "id": "9f55817c",
   "metadata": {},
   "outputs": [
    {
     "data": {
      "text/plain": [
       "array([[325.25],\n",
       "       [331.27],\n",
       "       [329.83],\n",
       "       ...,\n",
       "       [793.7 ],\n",
       "       [783.33],\n",
       "       [782.75]])"
      ]
     },
     "execution_count": 3,
     "metadata": {},
     "output_type": "execute_result"
    }
   ],
   "source": [
    "set_train=ds_train.iloc[:, 1:2].values\n",
    "set_train"
   ]
  },
  {
   "cell_type": "markdown",
   "id": "df526610",
   "metadata": {},
   "source": [
    "# feature scaling "
   ]
  },
  {
   "cell_type": "code",
   "execution_count": 4,
   "id": "15cc3edf",
   "metadata": {},
   "outputs": [],
   "source": [
    "from sklearn.preprocessing import MinMaxScaler\n",
    "sc=MinMaxScaler()\n",
    "train_setscaler=sc.fit_transform(set_train)"
   ]
  },
  {
   "cell_type": "code",
   "execution_count": 5,
   "id": "0772d97c",
   "metadata": {},
   "outputs": [
    {
     "data": {
      "text/plain": [
       "(1258, 1)"
      ]
     },
     "execution_count": 5,
     "metadata": {},
     "output_type": "execute_result"
    }
   ],
   "source": [
    "train_setscaler.shape"
   ]
  },
  {
   "cell_type": "markdown",
   "id": "3f81a3c4",
   "metadata": {},
   "source": [
    "# creating the data structure with 60 timestpes and 1output"
   ]
  },
  {
   "cell_type": "code",
   "execution_count": 6,
   "id": "917fa928",
   "metadata": {},
   "outputs": [],
   "source": [
    "x_train=[]\n",
    "y_train=[]\n",
    "for i in range(60,1258):\n",
    "    x_train.append(train_setscaler[i-60:i,0])\n",
    "    y_train.append(train_setscaler[i,0])\n",
    "x_train,y_train=np.array(x_train),np.array(y_train)"
   ]
  },
  {
   "cell_type": "markdown",
   "id": "e0038c2b",
   "metadata": {},
   "source": [
    "# reshaping "
   ]
  },
  {
   "cell_type": "code",
   "execution_count": 7,
   "id": "fd3553c0",
   "metadata": {},
   "outputs": [],
   "source": [
    "x_train=np.reshape(x_train,(x_train.shape[0],x_train.shape[1],1))"
   ]
  },
  {
   "cell_type": "markdown",
   "id": "c7e8a5be",
   "metadata": {},
   "source": [
    "# part 2 buildling and raining the RNN\n",
    "importing the keras lib packages"
   ]
  },
  {
   "cell_type": "code",
   "execution_count": 8,
   "id": "a1e05ae1",
   "metadata": {},
   "outputs": [
    {
     "name": "stdout",
     "output_type": "stream",
     "text": [
      "Requirement already satisfied: TensorFlow in c:\\users\\rohit jain\\anaconda3\\lib\\site-packages (2.11.0)\n",
      "Requirement already satisfied: tensorflow-intel==2.11.0 in c:\\users\\rohit jain\\anaconda3\\lib\\site-packages (from TensorFlow) (2.11.0)\n",
      "Requirement already satisfied: opt-einsum>=2.3.2 in c:\\users\\rohit jain\\anaconda3\\lib\\site-packages (from tensorflow-intel==2.11.0->TensorFlow) (3.3.0)\n",
      "Requirement already satisfied: astunparse>=1.6.0 in c:\\users\\rohit jain\\anaconda3\\lib\\site-packages (from tensorflow-intel==2.11.0->TensorFlow) (1.6.3)\n",
      "Requirement already satisfied: google-pasta>=0.1.1 in c:\\users\\rohit jain\\anaconda3\\lib\\site-packages (from tensorflow-intel==2.11.0->TensorFlow) (0.2.0)\n",
      "Requirement already satisfied: tensorboard<2.12,>=2.11 in c:\\users\\rohit jain\\anaconda3\\lib\\site-packages (from tensorflow-intel==2.11.0->TensorFlow) (2.11.0)\n",
      "Requirement already satisfied: absl-py>=1.0.0 in c:\\users\\rohit jain\\anaconda3\\lib\\site-packages (from tensorflow-intel==2.11.0->TensorFlow) (1.3.0)\n",
      "Requirement already satisfied: typing-extensions>=3.6.6 in c:\\users\\rohit jain\\anaconda3\\lib\\site-packages (from tensorflow-intel==2.11.0->TensorFlow) (4.3.0)\n",
      "Requirement already satisfied: protobuf<3.20,>=3.9.2 in c:\\users\\rohit jain\\anaconda3\\lib\\site-packages (from tensorflow-intel==2.11.0->TensorFlow) (3.19.6)\n",
      "Requirement already satisfied: packaging in c:\\users\\rohit jain\\anaconda3\\lib\\site-packages (from tensorflow-intel==2.11.0->TensorFlow) (21.3)\n",
      "Requirement already satisfied: setuptools in c:\\users\\rohit jain\\anaconda3\\lib\\site-packages (from tensorflow-intel==2.11.0->TensorFlow) (63.4.1)\n",
      "Requirement already satisfied: libclang>=13.0.0 in c:\\users\\rohit jain\\anaconda3\\lib\\site-packages (from tensorflow-intel==2.11.0->TensorFlow) (14.0.6)\n",
      "Requirement already satisfied: h5py>=2.9.0 in c:\\users\\rohit jain\\anaconda3\\lib\\site-packages (from tensorflow-intel==2.11.0->TensorFlow) (3.7.0)\n",
      "Requirement already satisfied: tensorflow-estimator<2.12,>=2.11.0 in c:\\users\\rohit jain\\anaconda3\\lib\\site-packages (from tensorflow-intel==2.11.0->TensorFlow) (2.11.0)\n",
      "Requirement already satisfied: grpcio<2.0,>=1.24.3 in c:\\users\\rohit jain\\anaconda3\\lib\\site-packages (from tensorflow-intel==2.11.0->TensorFlow) (1.51.1)\n",
      "Requirement already satisfied: numpy>=1.20 in c:\\users\\rohit jain\\anaconda3\\lib\\site-packages (from tensorflow-intel==2.11.0->TensorFlow) (1.21.5)\n",
      "Requirement already satisfied: flatbuffers>=2.0 in c:\\users\\rohit jain\\anaconda3\\lib\\site-packages (from tensorflow-intel==2.11.0->TensorFlow) (22.12.6)\n",
      "Requirement already satisfied: termcolor>=1.1.0 in c:\\users\\rohit jain\\anaconda3\\lib\\site-packages (from tensorflow-intel==2.11.0->TensorFlow) (2.1.1)\n",
      "Requirement already satisfied: six>=1.12.0 in c:\\users\\rohit jain\\anaconda3\\lib\\site-packages (from tensorflow-intel==2.11.0->TensorFlow) (1.16.0)\n",
      "Requirement already satisfied: gast<=0.4.0,>=0.2.1 in c:\\users\\rohit jain\\anaconda3\\lib\\site-packages (from tensorflow-intel==2.11.0->TensorFlow) (0.4.0)\n",
      "Requirement already satisfied: tensorflow-io-gcs-filesystem>=0.23.1 in c:\\users\\rohit jain\\anaconda3\\lib\\site-packages (from tensorflow-intel==2.11.0->TensorFlow) (0.28.0)\n",
      "Requirement already satisfied: wrapt>=1.11.0 in c:\\users\\rohit jain\\anaconda3\\lib\\site-packages (from tensorflow-intel==2.11.0->TensorFlow) (1.14.1)\n",
      "Requirement already satisfied: keras<2.12,>=2.11.0 in c:\\users\\rohit jain\\anaconda3\\lib\\site-packages (from tensorflow-intel==2.11.0->TensorFlow) (2.11.0)\n",
      "Requirement already satisfied: wheel<1.0,>=0.23.0 in c:\\users\\rohit jain\\anaconda3\\lib\\site-packages (from astunparse>=1.6.0->tensorflow-intel==2.11.0->TensorFlow) (0.37.1)\n",
      "Requirement already satisfied: tensorboard-data-server<0.7.0,>=0.6.0 in c:\\users\\rohit jain\\anaconda3\\lib\\site-packages (from tensorboard<2.12,>=2.11->tensorflow-intel==2.11.0->TensorFlow) (0.6.1)\n",
      "Requirement already satisfied: google-auth-oauthlib<0.5,>=0.4.1 in c:\\users\\rohit jain\\anaconda3\\lib\\site-packages (from tensorboard<2.12,>=2.11->tensorflow-intel==2.11.0->TensorFlow) (0.4.6)\n",
      "Requirement already satisfied: werkzeug>=1.0.1 in c:\\users\\rohit jain\\anaconda3\\lib\\site-packages (from tensorboard<2.12,>=2.11->tensorflow-intel==2.11.0->TensorFlow) (2.0.3)\n",
      "Requirement already satisfied: tensorboard-plugin-wit>=1.6.0 in c:\\users\\rohit jain\\anaconda3\\lib\\site-packages (from tensorboard<2.12,>=2.11->tensorflow-intel==2.11.0->TensorFlow) (1.8.1)\n",
      "Requirement already satisfied: google-auth<3,>=1.6.3 in c:\\users\\rohit jain\\anaconda3\\lib\\site-packages (from tensorboard<2.12,>=2.11->tensorflow-intel==2.11.0->TensorFlow) (2.15.0)\n",
      "Requirement already satisfied: markdown>=2.6.8 in c:\\users\\rohit jain\\anaconda3\\lib\\site-packages (from tensorboard<2.12,>=2.11->tensorflow-intel==2.11.0->TensorFlow) (3.3.4)\n",
      "Requirement already satisfied: requests<3,>=2.21.0 in c:\\users\\rohit jain\\anaconda3\\lib\\site-packages (from tensorboard<2.12,>=2.11->tensorflow-intel==2.11.0->TensorFlow) (2.28.1)\n",
      "Requirement already satisfied: pyparsing!=3.0.5,>=2.0.2 in c:\\users\\rohit jain\\anaconda3\\lib\\site-packages (from packaging->tensorflow-intel==2.11.0->TensorFlow) (3.0.9)\n",
      "Requirement already satisfied: cachetools<6.0,>=2.0.0 in c:\\users\\rohit jain\\anaconda3\\lib\\site-packages (from google-auth<3,>=1.6.3->tensorboard<2.12,>=2.11->tensorflow-intel==2.11.0->TensorFlow) (5.2.0)\n",
      "Requirement already satisfied: rsa<5,>=3.1.4 in c:\\users\\rohit jain\\anaconda3\\lib\\site-packages (from google-auth<3,>=1.6.3->tensorboard<2.12,>=2.11->tensorflow-intel==2.11.0->TensorFlow) (4.9)\n",
      "Requirement already satisfied: pyasn1-modules>=0.2.1 in c:\\users\\rohit jain\\anaconda3\\lib\\site-packages (from google-auth<3,>=1.6.3->tensorboard<2.12,>=2.11->tensorflow-intel==2.11.0->TensorFlow) (0.2.8)\n",
      "Requirement already satisfied: requests-oauthlib>=0.7.0 in c:\\users\\rohit jain\\anaconda3\\lib\\site-packages (from google-auth-oauthlib<0.5,>=0.4.1->tensorboard<2.12,>=2.11->tensorflow-intel==2.11.0->TensorFlow) (1.3.1)\n",
      "Requirement already satisfied: idna<4,>=2.5 in c:\\users\\rohit jain\\anaconda3\\lib\\site-packages (from requests<3,>=2.21.0->tensorboard<2.12,>=2.11->tensorflow-intel==2.11.0->TensorFlow) (3.3)\n",
      "Requirement already satisfied: urllib3<1.27,>=1.21.1 in c:\\users\\rohit jain\\anaconda3\\lib\\site-packages (from requests<3,>=2.21.0->tensorboard<2.12,>=2.11->tensorflow-intel==2.11.0->TensorFlow) (1.26.11)\n",
      "Requirement already satisfied: charset-normalizer<3,>=2 in c:\\users\\rohit jain\\anaconda3\\lib\\site-packages (from requests<3,>=2.21.0->tensorboard<2.12,>=2.11->tensorflow-intel==2.11.0->TensorFlow) (2.0.4)\n",
      "Requirement already satisfied: certifi>=2017.4.17 in c:\\users\\rohit jain\\anaconda3\\lib\\site-packages (from requests<3,>=2.21.0->tensorboard<2.12,>=2.11->tensorflow-intel==2.11.0->TensorFlow) (2022.9.14)\n",
      "Requirement already satisfied: pyasn1<0.5.0,>=0.4.6 in c:\\users\\rohit jain\\anaconda3\\lib\\site-packages (from pyasn1-modules>=0.2.1->google-auth<3,>=1.6.3->tensorboard<2.12,>=2.11->tensorflow-intel==2.11.0->TensorFlow) (0.4.8)\n",
      "Requirement already satisfied: oauthlib>=3.0.0 in c:\\users\\rohit jain\\anaconda3\\lib\\site-packages (from requests-oauthlib>=0.7.0->google-auth-oauthlib<0.5,>=0.4.1->tensorboard<2.12,>=2.11->tensorflow-intel==2.11.0->TensorFlow) (3.2.2)\n"
     ]
    }
   ],
   "source": [
    "!pip install TensorFlow \n",
    "#pip install keras"
   ]
  },
  {
   "cell_type": "code",
   "execution_count": 9,
   "id": "5929ab25",
   "metadata": {},
   "outputs": [],
   "source": [
    "from keras.models import Sequential\n",
    "from keras.layers import Dense\n",
    "from keras.layers import LSTM\n",
    "from keras.layers import Dropout"
   ]
  },
  {
   "cell_type": "markdown",
   "id": "c053d521",
   "metadata": {},
   "source": [
    "# initialsing the RNN "
   ]
  },
  {
   "cell_type": "code",
   "execution_count": 10,
   "id": "9f6b4aec",
   "metadata": {},
   "outputs": [],
   "source": [
    "regressor=Sequential()"
   ]
  },
  {
   "cell_type": "markdown",
   "id": "ff8c88ff",
   "metadata": {},
   "source": [
    "# adding the 1st LSTM layer and some DROPOUT regulasation"
   ]
  },
  {
   "cell_type": "code",
   "execution_count": 11,
   "id": "12ddc1ef",
   "metadata": {},
   "outputs": [],
   "source": [
    "regressor.add(LSTM(units=50,return_sequences=True,input_shape=(x_train.shape[1],1)))\n",
    "regressor.add(Dropout(0.2))"
   ]
  },
  {
   "cell_type": "markdown",
   "id": "905d5665",
   "metadata": {},
   "source": [
    "# adding the 2nd  LSTM layer and some DROPOUT regulasation"
   ]
  },
  {
   "cell_type": "code",
   "execution_count": 12,
   "id": "3b0aac69",
   "metadata": {},
   "outputs": [],
   "source": [
    "regressor.add(LSTM(units=50,return_sequences=True))\n",
    "regressor.add(Dropout(0.2))"
   ]
  },
  {
   "cell_type": "markdown",
   "id": "9c33fb8c",
   "metadata": {},
   "source": [
    "# adding the 3rd LSTM layer and some DROPOUT regulasation"
   ]
  },
  {
   "cell_type": "code",
   "execution_count": 13,
   "id": "d5ccf1e3",
   "metadata": {},
   "outputs": [],
   "source": [
    "regressor.add(LSTM(units=50,return_sequences=True))\n",
    "regressor.add(Dropout(0.2))"
   ]
  },
  {
   "cell_type": "markdown",
   "id": "cf239e31",
   "metadata": {},
   "source": [
    "# adding the 4th LSTM layer and some DROPOUT regulasation"
   ]
  },
  {
   "cell_type": "code",
   "execution_count": 14,
   "id": "7fb32073",
   "metadata": {},
   "outputs": [],
   "source": [
    "regressor.add(LSTM(units=50,return_sequences=True))\n",
    "regressor.add(Dropout(0.2))"
   ]
  },
  {
   "cell_type": "markdown",
   "id": "9c9d659c",
   "metadata": {},
   "source": [
    "# adding the op layer"
   ]
  },
  {
   "cell_type": "code",
   "execution_count": 15,
   "id": "58006a8f",
   "metadata": {},
   "outputs": [],
   "source": [
    "regressor.add(Dense(units=1))"
   ]
  },
  {
   "cell_type": "markdown",
   "id": "90b3ff2e",
   "metadata": {},
   "source": [
    "# compling the rnn"
   ]
  },
  {
   "cell_type": "code",
   "execution_count": 16,
   "id": "307d3f99",
   "metadata": {},
   "outputs": [],
   "source": [
    "regressor.compile(optimizer=\"adam\",loss=\"mean_squared_error\")"
   ]
  },
  {
   "cell_type": "markdown",
   "id": "94b231ba",
   "metadata": {},
   "source": [
    "# fitting theRNN to the training set"
   ]
  },
  {
   "cell_type": "code",
   "execution_count": 18,
   "id": "84ff5d09",
   "metadata": {},
   "outputs": [
    {
     "name": "stdout",
     "output_type": "stream",
     "text": [
      "Epoch 1/50\n",
      "38/38 [==============================] - 26s 236ms/step - loss: 0.1201\n",
      "Epoch 2/50\n",
      "38/38 [==============================] - 9s 227ms/step - loss: 0.0860\n",
      "Epoch 3/50\n",
      "38/38 [==============================] - 7s 184ms/step - loss: 0.0822\n",
      "Epoch 4/50\n",
      "38/38 [==============================] - 8s 213ms/step - loss: 0.0801\n",
      "Epoch 5/50\n",
      "38/38 [==============================] - 7s 191ms/step - loss: 0.0800\n",
      "Epoch 6/50\n",
      "38/38 [==============================] - 7s 182ms/step - loss: 0.0790\n",
      "Epoch 7/50\n",
      "38/38 [==============================] - 7s 195ms/step - loss: 0.0784\n",
      "Epoch 8/50\n",
      "38/38 [==============================] - 9s 233ms/step - loss: 0.0785\n",
      "Epoch 9/50\n",
      "38/38 [==============================] - 8s 218ms/step - loss: 0.0773\n",
      "Epoch 10/50\n",
      "38/38 [==============================] - 9s 227ms/step - loss: 0.0778\n",
      "Epoch 11/50\n",
      "38/38 [==============================] - 9s 231ms/step - loss: 0.0780\n",
      "Epoch 12/50\n",
      "38/38 [==============================] - 9s 242ms/step - loss: 0.0772\n",
      "Epoch 13/50\n",
      "38/38 [==============================] - 11s 280ms/step - loss: 0.0768\n",
      "Epoch 14/50\n",
      "38/38 [==============================] - 9s 229ms/step - loss: 0.0771\n",
      "Epoch 15/50\n",
      "38/38 [==============================] - 10s 271ms/step - loss: 0.0763\n",
      "Epoch 16/50\n",
      "38/38 [==============================] - 11s 288ms/step - loss: 0.0765\n",
      "Epoch 17/50\n",
      "38/38 [==============================] - 11s 285ms/step - loss: 0.0768\n",
      "Epoch 18/50\n",
      "38/38 [==============================] - 11s 289ms/step - loss: 0.0764\n",
      "Epoch 19/50\n",
      "38/38 [==============================] - 9s 249ms/step - loss: 0.0763\n",
      "Epoch 20/50\n",
      "38/38 [==============================] - 9s 241ms/step - loss: 0.0760\n",
      "Epoch 21/50\n",
      "38/38 [==============================] - 8s 215ms/step - loss: 0.0759\n",
      "Epoch 22/50\n",
      "38/38 [==============================] - 9s 239ms/step - loss: 0.0758\n",
      "Epoch 23/50\n",
      "38/38 [==============================] - 9s 237ms/step - loss: 0.0757\n",
      "Epoch 24/50\n",
      "38/38 [==============================] - 6s 169ms/step - loss: 0.0763\n",
      "Epoch 25/50\n",
      "38/38 [==============================] - 10s 264ms/step - loss: 0.0757\n",
      "Epoch 26/50\n",
      "38/38 [==============================] - 11s 280ms/step - loss: 0.0756\n",
      "Epoch 27/50\n",
      "38/38 [==============================] - 10s 257ms/step - loss: 0.0755\n",
      "Epoch 28/50\n",
      "38/38 [==============================] - 9s 226ms/step - loss: 0.0756\n",
      "Epoch 29/50\n",
      "38/38 [==============================] - 9s 243ms/step - loss: 0.0756\n",
      "Epoch 30/50\n",
      "38/38 [==============================] - 9s 226ms/step - loss: 0.0754\n",
      "Epoch 31/50\n",
      "38/38 [==============================] - 8s 212ms/step - loss: 0.0754\n",
      "Epoch 32/50\n",
      "38/38 [==============================] - 9s 246ms/step - loss: 0.0753\n",
      "Epoch 33/50\n",
      "38/38 [==============================] - 9s 246ms/step - loss: 0.0757\n",
      "Epoch 34/50\n",
      "38/38 [==============================] - 10s 264ms/step - loss: 0.0753\n",
      "Epoch 35/50\n",
      "38/38 [==============================] - 10s 255ms/step - loss: 0.0756\n",
      "Epoch 36/50\n",
      "38/38 [==============================] - 7s 180ms/step - loss: 0.0756\n",
      "Epoch 37/50\n",
      "38/38 [==============================] - 7s 195ms/step - loss: 0.0753\n",
      "Epoch 38/50\n",
      "38/38 [==============================] - 9s 245ms/step - loss: 0.0755\n",
      "Epoch 39/50\n",
      "38/38 [==============================] - 7s 178ms/step - loss: 0.0754\n",
      "Epoch 40/50\n",
      "38/38 [==============================] - 9s 246ms/step - loss: 0.0755\n",
      "Epoch 41/50\n",
      "38/38 [==============================] - 9s 230ms/step - loss: 0.0755\n",
      "Epoch 42/50\n",
      "38/38 [==============================] - 10s 255ms/step - loss: 0.0752\n",
      "Epoch 43/50\n",
      "38/38 [==============================] - 10s 257ms/step - loss: 0.0750\n",
      "Epoch 44/50\n",
      "38/38 [==============================] - 9s 246ms/step - loss: 0.0752\n",
      "Epoch 45/50\n",
      "38/38 [==============================] - 10s 251ms/step - loss: 0.0752\n",
      "Epoch 46/50\n",
      "38/38 [==============================] - 8s 202ms/step - loss: 0.0750\n",
      "Epoch 47/50\n",
      "38/38 [==============================] - 9s 229ms/step - loss: 0.0756\n",
      "Epoch 48/50\n",
      "38/38 [==============================] - 9s 249ms/step - loss: 0.0752\n",
      "Epoch 49/50\n",
      "38/38 [==============================] - 10s 254ms/step - loss: 0.0750\n",
      "Epoch 50/50\n",
      "38/38 [==============================] - 11s 284ms/step - loss: 0.0751\n"
     ]
    },
    {
     "data": {
      "text/plain": [
       "<keras.callbacks.History at 0x24ead80aca0>"
      ]
     },
     "execution_count": 18,
     "metadata": {},
     "output_type": "execute_result"
    }
   ],
   "source": [
    "regressor.fit(x_train,y_train,epochs=50,batch_size=32)"
   ]
  },
  {
   "cell_type": "code",
   "execution_count": 19,
   "id": "03d02eda",
   "metadata": {},
   "outputs": [
    {
     "name": "stdout",
     "output_type": "stream",
     "text": [
      "38/38 [==============================] - 8s 74ms/step\n"
     ]
    }
   ],
   "source": [
    "pred=regressor.predict(x_train)"
   ]
  },
  {
   "cell_type": "markdown",
   "id": "e932bb63",
   "metadata": {},
   "source": [
    "# Evaliting the RNN"
   ]
  },
  {
   "cell_type": "code",
   "execution_count": 20,
   "id": "bc1a453c",
   "metadata": {},
   "outputs": [
    {
     "ename": "ValueError",
     "evalue": "Found array with dim 3. Estimator expected <= 2.",
     "output_type": "error",
     "traceback": [
      "\u001b[1;31m---------------------------------------------------------------------------\u001b[0m",
      "\u001b[1;31mValueError\u001b[0m                                Traceback (most recent call last)",
      "\u001b[1;32m~\\AppData\\Local\\Temp\\ipykernel_11544\\3860376886.py\u001b[0m in \u001b[0;36m<module>\u001b[1;34m\u001b[0m\n\u001b[0;32m      1\u001b[0m \u001b[1;32mimport\u001b[0m \u001b[0mmath\u001b[0m\u001b[1;33m\u001b[0m\u001b[1;33m\u001b[0m\u001b[0m\n\u001b[0;32m      2\u001b[0m \u001b[1;32mfrom\u001b[0m \u001b[0msklearn\u001b[0m\u001b[1;33m.\u001b[0m\u001b[0mmetrics\u001b[0m \u001b[1;32mimport\u001b[0m \u001b[0mmean_squared_error\u001b[0m\u001b[1;33m\u001b[0m\u001b[1;33m\u001b[0m\u001b[0m\n\u001b[1;32m----> 3\u001b[1;33m \u001b[0mrmse\u001b[0m\u001b[1;33m=\u001b[0m\u001b[0mmath\u001b[0m\u001b[1;33m.\u001b[0m\u001b[0msqrt\u001b[0m\u001b[1;33m(\u001b[0m\u001b[0mmean_squared_error\u001b[0m\u001b[1;33m(\u001b[0m\u001b[0my_train\u001b[0m\u001b[1;33m,\u001b[0m\u001b[0mpred\u001b[0m\u001b[1;33m)\u001b[0m\u001b[1;33m)\u001b[0m\u001b[1;33m\u001b[0m\u001b[1;33m\u001b[0m\u001b[0m\n\u001b[0m\u001b[0;32m      4\u001b[0m \u001b[0mrmse\u001b[0m\u001b[1;33m\u001b[0m\u001b[1;33m\u001b[0m\u001b[0m\n",
      "\u001b[1;32m~\\anaconda3\\lib\\site-packages\\sklearn\\metrics\\_regression.py\u001b[0m in \u001b[0;36mmean_squared_error\u001b[1;34m(y_true, y_pred, sample_weight, multioutput, squared)\u001b[0m\n\u001b[0;32m    436\u001b[0m     \u001b[1;36m0.825\u001b[0m\u001b[1;33m...\u001b[0m\u001b[1;33m\u001b[0m\u001b[1;33m\u001b[0m\u001b[0m\n\u001b[0;32m    437\u001b[0m     \"\"\"\n\u001b[1;32m--> 438\u001b[1;33m     y_type, y_true, y_pred, multioutput = _check_reg_targets(\n\u001b[0m\u001b[0;32m    439\u001b[0m         \u001b[0my_true\u001b[0m\u001b[1;33m,\u001b[0m \u001b[0my_pred\u001b[0m\u001b[1;33m,\u001b[0m \u001b[0mmultioutput\u001b[0m\u001b[1;33m\u001b[0m\u001b[1;33m\u001b[0m\u001b[0m\n\u001b[0;32m    440\u001b[0m     )\n",
      "\u001b[1;32m~\\anaconda3\\lib\\site-packages\\sklearn\\metrics\\_regression.py\u001b[0m in \u001b[0;36m_check_reg_targets\u001b[1;34m(y_true, y_pred, multioutput, dtype)\u001b[0m\n\u001b[0;32m     94\u001b[0m     \u001b[0mcheck_consistent_length\u001b[0m\u001b[1;33m(\u001b[0m\u001b[0my_true\u001b[0m\u001b[1;33m,\u001b[0m \u001b[0my_pred\u001b[0m\u001b[1;33m)\u001b[0m\u001b[1;33m\u001b[0m\u001b[1;33m\u001b[0m\u001b[0m\n\u001b[0;32m     95\u001b[0m     \u001b[0my_true\u001b[0m \u001b[1;33m=\u001b[0m \u001b[0mcheck_array\u001b[0m\u001b[1;33m(\u001b[0m\u001b[0my_true\u001b[0m\u001b[1;33m,\u001b[0m \u001b[0mensure_2d\u001b[0m\u001b[1;33m=\u001b[0m\u001b[1;32mFalse\u001b[0m\u001b[1;33m,\u001b[0m \u001b[0mdtype\u001b[0m\u001b[1;33m=\u001b[0m\u001b[0mdtype\u001b[0m\u001b[1;33m)\u001b[0m\u001b[1;33m\u001b[0m\u001b[1;33m\u001b[0m\u001b[0m\n\u001b[1;32m---> 96\u001b[1;33m     \u001b[0my_pred\u001b[0m \u001b[1;33m=\u001b[0m \u001b[0mcheck_array\u001b[0m\u001b[1;33m(\u001b[0m\u001b[0my_pred\u001b[0m\u001b[1;33m,\u001b[0m \u001b[0mensure_2d\u001b[0m\u001b[1;33m=\u001b[0m\u001b[1;32mFalse\u001b[0m\u001b[1;33m,\u001b[0m \u001b[0mdtype\u001b[0m\u001b[1;33m=\u001b[0m\u001b[0mdtype\u001b[0m\u001b[1;33m)\u001b[0m\u001b[1;33m\u001b[0m\u001b[1;33m\u001b[0m\u001b[0m\n\u001b[0m\u001b[0;32m     97\u001b[0m \u001b[1;33m\u001b[0m\u001b[0m\n\u001b[0;32m     98\u001b[0m     \u001b[1;32mif\u001b[0m \u001b[0my_true\u001b[0m\u001b[1;33m.\u001b[0m\u001b[0mndim\u001b[0m \u001b[1;33m==\u001b[0m \u001b[1;36m1\u001b[0m\u001b[1;33m:\u001b[0m\u001b[1;33m\u001b[0m\u001b[1;33m\u001b[0m\u001b[0m\n",
      "\u001b[1;32m~\\anaconda3\\lib\\site-packages\\sklearn\\utils\\validation.py\u001b[0m in \u001b[0;36mcheck_array\u001b[1;34m(array, accept_sparse, accept_large_sparse, dtype, order, copy, force_all_finite, ensure_2d, allow_nd, ensure_min_samples, ensure_min_features, estimator)\u001b[0m\n\u001b[0;32m    792\u001b[0m                 ) from e\n\u001b[0;32m    793\u001b[0m         \u001b[1;32mif\u001b[0m \u001b[1;32mnot\u001b[0m \u001b[0mallow_nd\u001b[0m \u001b[1;32mand\u001b[0m \u001b[0marray\u001b[0m\u001b[1;33m.\u001b[0m\u001b[0mndim\u001b[0m \u001b[1;33m>=\u001b[0m \u001b[1;36m3\u001b[0m\u001b[1;33m:\u001b[0m\u001b[1;33m\u001b[0m\u001b[1;33m\u001b[0m\u001b[0m\n\u001b[1;32m--> 794\u001b[1;33m             raise ValueError(\n\u001b[0m\u001b[0;32m    795\u001b[0m                 \u001b[1;34m\"Found array with dim %d. %s expected <= 2.\"\u001b[0m\u001b[1;33m\u001b[0m\u001b[1;33m\u001b[0m\u001b[0m\n\u001b[0;32m    796\u001b[0m                 \u001b[1;33m%\u001b[0m \u001b[1;33m(\u001b[0m\u001b[0marray\u001b[0m\u001b[1;33m.\u001b[0m\u001b[0mndim\u001b[0m\u001b[1;33m,\u001b[0m \u001b[0mestimator_name\u001b[0m\u001b[1;33m)\u001b[0m\u001b[1;33m\u001b[0m\u001b[1;33m\u001b[0m\u001b[0m\n",
      "\u001b[1;31mValueError\u001b[0m: Found array with dim 3. Estimator expected <= 2."
     ]
    }
   ],
   "source": [
    "import math \n",
    "from sklearn.metrics import mean_squared_error\n",
    "rmse=math.sqrt(mean_squared_error(y_train,pred))\n",
    "rmse"
   ]
  },
  {
   "cell_type": "markdown",
   "id": "69aae205",
   "metadata": {},
   "source": [
    "# part 3 making the prediction and visulsing the results"
   ]
  },
  {
   "cell_type": "markdown",
   "id": "5a975293",
   "metadata": {},
   "source": [
    "getting the real stok price of 2007"
   ]
  },
  {
   "cell_type": "code",
   "execution_count": 21,
   "id": "0bf28164",
   "metadata": {},
   "outputs": [],
   "source": [
    "ds_test=pd.read_csv(\"Google_Stock_Price_Test.csv\")\n",
    "real_stock_price=ds_test.iloc[:,1:2].values"
   ]
  },
  {
   "cell_type": "markdown",
   "id": "c33204e2",
   "metadata": {},
   "source": [
    "gettings the prediction stock price of 2017"
   ]
  },
  {
   "cell_type": "code",
   "execution_count": 22,
   "id": "e5ea5dc9",
   "metadata": {},
   "outputs": [
    {
     "ename": "NameError",
     "evalue": "name 'x_xest' is not defined",
     "output_type": "error",
     "traceback": [
      "\u001b[1;31m---------------------------------------------------------------------------\u001b[0m",
      "\u001b[1;31mNameError\u001b[0m                                 Traceback (most recent call last)",
      "\u001b[1;32m~\\AppData\\Local\\Temp\\ipykernel_11544\\3317259705.py\u001b[0m in \u001b[0;36m<module>\u001b[1;34m\u001b[0m\n\u001b[0;32m      7\u001b[0m     \u001b[0mx_test\u001b[0m\u001b[1;33m.\u001b[0m\u001b[0mappend\u001b[0m\u001b[1;33m(\u001b[0m\u001b[0minputs\u001b[0m\u001b[1;33m[\u001b[0m\u001b[0mi\u001b[0m\u001b[1;33m-\u001b[0m\u001b[1;36m60\u001b[0m\u001b[1;33m:\u001b[0m\u001b[0mi\u001b[0m\u001b[1;33m,\u001b[0m\u001b[1;36m0\u001b[0m\u001b[1;33m]\u001b[0m\u001b[1;33m)\u001b[0m\u001b[1;33m\u001b[0m\u001b[1;33m\u001b[0m\u001b[0m\n\u001b[0;32m      8\u001b[0m \u001b[0mx_test\u001b[0m\u001b[1;33m=\u001b[0m\u001b[0mnp\u001b[0m\u001b[1;33m.\u001b[0m\u001b[0marray\u001b[0m\u001b[1;33m(\u001b[0m\u001b[0mx_test\u001b[0m\u001b[1;33m)\u001b[0m\u001b[1;33m\u001b[0m\u001b[1;33m\u001b[0m\u001b[0m\n\u001b[1;32m----> 9\u001b[1;33m \u001b[0mx_test\u001b[0m\u001b[1;33m=\u001b[0m\u001b[0mnp\u001b[0m\u001b[1;33m.\u001b[0m\u001b[0mreshape\u001b[0m\u001b[1;33m(\u001b[0m\u001b[0mx_xest\u001b[0m\u001b[1;33m,\u001b[0m\u001b[1;33m(\u001b[0m\u001b[0mx_xest\u001b[0m\u001b[1;33m.\u001b[0m\u001b[0mshape\u001b[0m\u001b[1;33m[\u001b[0m\u001b[1;36m0\u001b[0m\u001b[1;33m]\u001b[0m\u001b[1;33m,\u001b[0m\u001b[0mx_xest\u001b[0m\u001b[1;33m.\u001b[0m\u001b[0mshape\u001b[0m\u001b[1;33m[\u001b[0m\u001b[1;36m1\u001b[0m\u001b[1;33m]\u001b[0m\u001b[1;33m,\u001b[0m\u001b[1;36m1\u001b[0m\u001b[1;33m)\u001b[0m\u001b[1;33m)\u001b[0m\u001b[1;33m\u001b[0m\u001b[1;33m\u001b[0m\u001b[0m\n\u001b[0m\u001b[0;32m     10\u001b[0m \u001b[0mpredict_stock_price\u001b[0m\u001b[1;33m=\u001b[0m\u001b[0mregressor\u001b[0m\u001b[1;33m.\u001b[0m\u001b[0mpredict\u001b[0m\u001b[1;33m(\u001b[0m\u001b[0mx_test\u001b[0m\u001b[1;33m)\u001b[0m\u001b[1;33m\u001b[0m\u001b[1;33m\u001b[0m\u001b[0m\n\u001b[0;32m     11\u001b[0m \u001b[0mpredict_stock_price\u001b[0m\u001b[1;33m=\u001b[0m\u001b[0msc\u001b[0m\u001b[1;33m.\u001b[0m\u001b[0minverse_transform\u001b[0m\u001b[1;33m(\u001b[0m\u001b[0mpredict_stock_price\u001b[0m\u001b[1;33m)\u001b[0m\u001b[1;33m\u001b[0m\u001b[1;33m\u001b[0m\u001b[0m\n",
      "\u001b[1;31mNameError\u001b[0m: name 'x_xest' is not defined"
     ]
    }
   ],
   "source": [
    "ds_total=pd.concat((ds_train[\"Open\"],ds_test[\"Open\"]),axis=0)\n",
    "inputs=ds_total[len(ds_total)-len(ds_test)-60:].values       #60 means 1st 60 rec leave \n",
    "inputs=inputs.reshape(-1,1)\n",
    "inputs=sc.transform(inputs)\n",
    "x_test=[]\n",
    "for i in range(60,80):\n",
    "    x_test.append(inputs[i-60:i,0])\n",
    "x_test=np.array(x_test)\n",
    "x_test=np.reshape(x_xest,(x_xest.shape[0],x_xest.shape[1],1))\n",
    "predict_stock_price=regressor.predict(x_test)\n",
    "predict_stock_price=sc.inverse_transform(predict_stock_price)"
   ]
  },
  {
   "cell_type": "markdown",
   "id": "16f5f7ff",
   "metadata": {},
   "source": [
    "# visualising the result "
   ]
  },
  {
   "cell_type": "code",
   "execution_count": 23,
   "id": "2ff1de04",
   "metadata": {},
   "outputs": [
    {
     "ename": "NameError",
     "evalue": "name 'predict_stock_price' is not defined",
     "output_type": "error",
     "traceback": [
      "\u001b[1;31m---------------------------------------------------------------------------\u001b[0m",
      "\u001b[1;31mNameError\u001b[0m                                 Traceback (most recent call last)",
      "\u001b[1;32m~\\AppData\\Local\\Temp\\ipykernel_11544\\521908718.py\u001b[0m in \u001b[0;36m<module>\u001b[1;34m\u001b[0m\n\u001b[0;32m      1\u001b[0m \u001b[0mplt\u001b[0m\u001b[1;33m.\u001b[0m\u001b[0mplot\u001b[0m\u001b[1;33m(\u001b[0m\u001b[0mreal_stock_price\u001b[0m\u001b[1;33m,\u001b[0m\u001b[0mcolor\u001b[0m\u001b[1;33m=\u001b[0m\u001b[1;34m\"red\"\u001b[0m\u001b[1;33m,\u001b[0m\u001b[0mlabel\u001b[0m\u001b[1;33m=\u001b[0m\u001b[1;34m\"real_stock_price\"\u001b[0m\u001b[1;33m)\u001b[0m\u001b[1;33m\u001b[0m\u001b[1;33m\u001b[0m\u001b[0m\n\u001b[1;32m----> 2\u001b[1;33m \u001b[0mplt\u001b[0m\u001b[1;33m.\u001b[0m\u001b[0mplot\u001b[0m\u001b[1;33m(\u001b[0m\u001b[0mpredict_stock_price\u001b[0m\u001b[1;33m,\u001b[0m\u001b[0mcolor\u001b[0m\u001b[1;33m=\u001b[0m\u001b[1;34m\"bule\"\u001b[0m\u001b[1;33m,\u001b[0m\u001b[0mlabel\u001b[0m\u001b[1;33m=\u001b[0m\u001b[1;34m\"predict_stock_price\"\u001b[0m\u001b[1;33m)\u001b[0m\u001b[1;33m\u001b[0m\u001b[1;33m\u001b[0m\u001b[0m\n\u001b[0m\u001b[0;32m      3\u001b[0m \u001b[0mplt\u001b[0m\u001b[1;33m.\u001b[0m\u001b[0mtitle\u001b[0m\u001b[1;33m(\u001b[0m\u001b[1;34m\"google stock preci prediction \"\u001b[0m\u001b[1;33m)\u001b[0m\u001b[1;33m\u001b[0m\u001b[1;33m\u001b[0m\u001b[0m\n\u001b[0;32m      4\u001b[0m \u001b[0mplt\u001b[0m\u001b[1;33m.\u001b[0m\u001b[0mxlabel\u001b[0m\u001b[1;33m(\u001b[0m\u001b[1;34m\"time\"\u001b[0m\u001b[1;33m)\u001b[0m\u001b[1;33m\u001b[0m\u001b[1;33m\u001b[0m\u001b[0m\n\u001b[0;32m      5\u001b[0m \u001b[0mplt\u001b[0m\u001b[1;33m.\u001b[0m\u001b[0mylabel\u001b[0m\u001b[1;33m(\u001b[0m\u001b[1;34m\"google stock price\"\u001b[0m\u001b[1;33m)\u001b[0m\u001b[1;33m\u001b[0m\u001b[1;33m\u001b[0m\u001b[0m\n",
      "\u001b[1;31mNameError\u001b[0m: name 'predict_stock_price' is not defined"
     ]
    },
    {
     "data": {
      "image/png": "[encoded data removed]",
      "text/plain": [
       "<Figure size 640x480 with 1 Axes>"
      ]
     },
     "metadata": {},
     "output_type": "display_data"
    }
   ],
   "source": [
    "plt.plot(real_stock_price,color=\"red\",label=\"real_stock_price\")\n",
    "plt.plot(predict_stock_price,color=\"bule\",label=\"predict_stock_price\")\n",
    "plt.title(\"google stock preci prediction \")\n",
    "plt.xlabel(\"time\")\n",
    "plt.ylabel(\"google stock price\")\n",
    "plt.legend()\n",
    "plt.show()"
   ]
  },
  {
   "cell_type": "code",
   "execution_count": null,
   "id": "f8f34498",
   "metadata": {},
   "outputs": [],
   "source": []
  }
 ],
 "metadata": {
  "kernelspec": {
   "display_name": "Python 3 (ipykernel)",
   "language": "python",
   "name": "python3"
  },
  "language_info": {
   "codemirror_mode": {
    "name": "ipython",
    "version": 3
   },
   "file_extension": ".py",
   "mimetype": "text/x-python",
   "name": "python",
   "nbconvert_exporter": "python",
   "pygments_lexer": "ipython3",
   "version": "3.9.13"
  }
 },
 "nbformat": 4,
 "nbformat_minor": 5
}
