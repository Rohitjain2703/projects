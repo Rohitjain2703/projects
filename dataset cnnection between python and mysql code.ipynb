{
 "cells": [
  {
   "cell_type": "markdown",
   "id": "9d18561f",
   "metadata": {},
   "source": [
    "# dataset cnnection between python and mysql "
   ]
  },
  {
   "cell_type": "code",
   "execution_count": null,
   "id": "e6edb523",
   "metadata": {},
   "outputs": [],
   "source": [
    "!pip install PyMSQL"
   ]
  },
  {
   "cell_type": "code",
   "execution_count": null,
   "id": "ba8fecce",
   "metadata": {
    "scrolled": true
   },
   "outputs": [],
   "source": [
    "#import labrary\n",
    "import sqlqlchemy \n",
    "import panads aspd"
   ]
  },
  {
   "cell_type": "markdown",
   "id": "87b4b9eb",
   "metadata": {},
   "source": [
    "# connect mysql to python by using _sqlalchemy _engine"
   ]
  },
  {
   "cell_type": "code",
   "execution_count": null,
   "id": "13265dbd",
   "metadata": {},
   "outputs": [],
   "source": [
    "engine=sqlqlchemy.create_engine(\"mysql+pymysql:\n",
    "            //root:root@localhost:3306/database name\")\n"
   ]
  },
  {
   "cell_type": "code",
   "execution_count": null,
   "id": "56d2104e",
   "metadata": {},
   "outputs": [],
   "source": [
    "###write the reqired the sql quray \n",
    "qurey=\"show tables \"\n",
    "#execute the sql qurey\n",
    "ds=pd.read_sql_query(qurey,engine)\n",
    "ds\n",
    "\n",
    "qurey=\"select * from table anme movie \"\n",
    "tb=pd.read_sql_query(qurey,engine)\n",
    "tb\n",
    "\n",
    "qurey=\"select * from tablename actor \"\n",
    "ac=pd.read_sql_query(qurey,engine)\n",
    "ac\n",
    "\n",
    "\n"
   ]
  },
  {
   "cell_type": "code",
   "execution_count": null,
   "id": "6c1847b2",
   "metadata": {},
   "outputs": [],
   "source": []
  },
  {
   "cell_type": "code",
   "execution_count": null,
   "id": "82e4cdcf",
   "metadata": {},
   "outputs": [],
   "source": []
  },
  {
   "cell_type": "code",
   "execution_count": null,
   "id": "f7dfd7d6",
   "metadata": {},
   "outputs": [],
   "source": []
  },
  {
   "cell_type": "code",
   "execution_count": null,
   "id": "bd63abae",
   "metadata": {},
   "outputs": [],
   "source": []
  },
  {
   "cell_type": "code",
   "execution_count": null,
   "id": "ade4bb11",
   "metadata": {},
   "outputs": [],
   "source": []
  },
  {
   "cell_type": "code",
   "execution_count": null,
   "id": "b17c3e15",
   "metadata": {},
   "outputs": [],
   "source": []
  },
  {
   "cell_type": "code",
   "execution_count": null,
   "id": "e84723c4",
   "metadata": {},
   "outputs": [],
   "source": []
  },
  {
   "cell_type": "code",
   "execution_count": null,
   "id": "ffc0f61e",
   "metadata": {},
   "outputs": [],
   "source": []
  },
  {
   "cell_type": "code",
   "execution_count": null,
   "id": "cc58aa38",
   "metadata": {},
   "outputs": [],
   "source": []
  },
  {
   "cell_type": "code",
   "execution_count": null,
   "id": "810e7363",
   "metadata": {},
   "outputs": [],
   "source": []
  }
 ],
 "metadata": {
  "kernelspec": {
   "display_name": "Python 3 (ipykernel)",
   "language": "python",
   "name": "python3"
  },
  "language_info": {
   "codemirror_mode": {
    "name": "ipython",
    "version": 3
   },
   "file_extension": ".py",
   "mimetype": "text/x-python",
   "name": "python",
   "nbconvert_exporter": "python",
   "pygments_lexer": "ipython3",
   "version": "3.9.12"
  }
 },
 "nbformat": 4,
 "nbformat_minor": 5
}
