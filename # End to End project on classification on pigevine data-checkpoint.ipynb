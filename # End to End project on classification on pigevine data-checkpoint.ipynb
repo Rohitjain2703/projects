{
 "cells": [
  {
   "cell_type": "markdown",
   "id": "43be0ab1",
   "metadata": {},
   "source": [
    "# End to End project on classification on pigevine data"
   ]
  },
  {
   "cell_type": "code",
   "execution_count": 1,
   "id": "9953a159",
   "metadata": {},
   "outputs": [],
   "source": [
    "import numpy as np\n",
    "import pandas as pd \n",
    "import matplotlib.pyplot as plt\n",
    "%matplotlib inline\n",
    "import seaborn as sns\n",
    "import warnings\n",
    "warnings.simplefilter(\"ignore\")\n"
   ]
  },
  {
   "cell_type": "code",
   "execution_count": 2,
   "id": "9a26c008",
   "metadata": {},
   "outputs": [
    {
     "ename": "FileNotFoundError",
     "evalue": "[Errno 2] No such file or directory: 'Downloads\\\\penguins_size.csv'",
     "output_type": "error",
     "traceback": [
      "\u001b[1;31m---------------------------------------------------------------------------\u001b[0m",
      "\u001b[1;31mFileNotFoundError\u001b[0m                         Traceback (most recent call last)",
      "Input \u001b[1;32mIn [2]\u001b[0m, in \u001b[0;36m<cell line: 1>\u001b[1;34m()\u001b[0m\n\u001b[1;32m----> 1\u001b[0m ds\u001b[38;5;241m=\u001b[39m\u001b[43mpd\u001b[49m\u001b[38;5;241;43m.\u001b[39;49m\u001b[43mread_csv\u001b[49m\u001b[43m(\u001b[49m\u001b[38;5;124;43m\"\u001b[39;49m\u001b[38;5;124;43mDownloads\u001b[39;49m\u001b[38;5;124;43m\\\u001b[39;49m\u001b[38;5;124;43mpenguins_size.csv\u001b[39;49m\u001b[38;5;124;43m\"\u001b[39;49m\u001b[43m)\u001b[49m\n\u001b[0;32m      2\u001b[0m ds\u001b[38;5;241m.\u001b[39mhead()\n",
      "File \u001b[1;32m~\\anaconda3\\lib\\site-packages\\pandas\\util\\_decorators.py:311\u001b[0m, in \u001b[0;36mdeprecate_nonkeyword_arguments.<locals>.decorate.<locals>.wrapper\u001b[1;34m(*args, **kwargs)\u001b[0m\n\u001b[0;32m    305\u001b[0m \u001b[38;5;28;01mif\u001b[39;00m \u001b[38;5;28mlen\u001b[39m(args) \u001b[38;5;241m>\u001b[39m num_allow_args:\n\u001b[0;32m    306\u001b[0m     warnings\u001b[38;5;241m.\u001b[39mwarn(\n\u001b[0;32m    307\u001b[0m         msg\u001b[38;5;241m.\u001b[39mformat(arguments\u001b[38;5;241m=\u001b[39marguments),\n\u001b[0;32m    308\u001b[0m         \u001b[38;5;167;01mFutureWarning\u001b[39;00m,\n\u001b[0;32m    309\u001b[0m         stacklevel\u001b[38;5;241m=\u001b[39mstacklevel,\n\u001b[0;32m    310\u001b[0m     )\n\u001b[1;32m--> 311\u001b[0m \u001b[38;5;28;01mreturn\u001b[39;00m func(\u001b[38;5;241m*\u001b[39margs, \u001b[38;5;241m*\u001b[39m\u001b[38;5;241m*\u001b[39mkwargs)\n",
      "File \u001b[1;32m~\\anaconda3\\lib\\site-packages\\pandas\\io\\parsers\\readers.py:680\u001b[0m, in \u001b[0;36mread_csv\u001b[1;34m(filepath_or_buffer, sep, delimiter, header, names, index_col, usecols, squeeze, prefix, mangle_dupe_cols, dtype, engine, converters, true_values, false_values, skipinitialspace, skiprows, skipfooter, nrows, na_values, keep_default_na, na_filter, verbose, skip_blank_lines, parse_dates, infer_datetime_format, keep_date_col, date_parser, dayfirst, cache_dates, iterator, chunksize, compression, thousands, decimal, lineterminator, quotechar, quoting, doublequote, escapechar, comment, encoding, encoding_errors, dialect, error_bad_lines, warn_bad_lines, on_bad_lines, delim_whitespace, low_memory, memory_map, float_precision, storage_options)\u001b[0m\n\u001b[0;32m    665\u001b[0m kwds_defaults \u001b[38;5;241m=\u001b[39m _refine_defaults_read(\n\u001b[0;32m    666\u001b[0m     dialect,\n\u001b[0;32m    667\u001b[0m     delimiter,\n\u001b[1;32m   (...)\u001b[0m\n\u001b[0;32m    676\u001b[0m     defaults\u001b[38;5;241m=\u001b[39m{\u001b[38;5;124m\"\u001b[39m\u001b[38;5;124mdelimiter\u001b[39m\u001b[38;5;124m\"\u001b[39m: \u001b[38;5;124m\"\u001b[39m\u001b[38;5;124m,\u001b[39m\u001b[38;5;124m\"\u001b[39m},\n\u001b[0;32m    677\u001b[0m )\n\u001b[0;32m    678\u001b[0m kwds\u001b[38;5;241m.\u001b[39mupdate(kwds_defaults)\n\u001b[1;32m--> 680\u001b[0m \u001b[38;5;28;01mreturn\u001b[39;00m \u001b[43m_read\u001b[49m\u001b[43m(\u001b[49m\u001b[43mfilepath_or_buffer\u001b[49m\u001b[43m,\u001b[49m\u001b[43m \u001b[49m\u001b[43mkwds\u001b[49m\u001b[43m)\u001b[49m\n",
      "File \u001b[1;32m~\\anaconda3\\lib\\site-packages\\pandas\\io\\parsers\\readers.py:575\u001b[0m, in \u001b[0;36m_read\u001b[1;34m(filepath_or_buffer, kwds)\u001b[0m\n\u001b[0;32m    572\u001b[0m _validate_names(kwds\u001b[38;5;241m.\u001b[39mget(\u001b[38;5;124m\"\u001b[39m\u001b[38;5;124mnames\u001b[39m\u001b[38;5;124m\"\u001b[39m, \u001b[38;5;28;01mNone\u001b[39;00m))\n\u001b[0;32m    574\u001b[0m \u001b[38;5;66;03m# Create the parser.\u001b[39;00m\n\u001b[1;32m--> 575\u001b[0m parser \u001b[38;5;241m=\u001b[39m TextFileReader(filepath_or_buffer, \u001b[38;5;241m*\u001b[39m\u001b[38;5;241m*\u001b[39mkwds)\n\u001b[0;32m    577\u001b[0m \u001b[38;5;28;01mif\u001b[39;00m chunksize \u001b[38;5;129;01mor\u001b[39;00m iterator:\n\u001b[0;32m    578\u001b[0m     \u001b[38;5;28;01mreturn\u001b[39;00m parser\n",
      "File \u001b[1;32m~\\anaconda3\\lib\\site-packages\\pandas\\io\\parsers\\readers.py:933\u001b[0m, in \u001b[0;36mTextFileReader.__init__\u001b[1;34m(self, f, engine, **kwds)\u001b[0m\n\u001b[0;32m    930\u001b[0m     \u001b[38;5;28mself\u001b[39m\u001b[38;5;241m.\u001b[39moptions[\u001b[38;5;124m\"\u001b[39m\u001b[38;5;124mhas_index_names\u001b[39m\u001b[38;5;124m\"\u001b[39m] \u001b[38;5;241m=\u001b[39m kwds[\u001b[38;5;124m\"\u001b[39m\u001b[38;5;124mhas_index_names\u001b[39m\u001b[38;5;124m\"\u001b[39m]\n\u001b[0;32m    932\u001b[0m \u001b[38;5;28mself\u001b[39m\u001b[38;5;241m.\u001b[39mhandles: IOHandles \u001b[38;5;241m|\u001b[39m \u001b[38;5;28;01mNone\u001b[39;00m \u001b[38;5;241m=\u001b[39m \u001b[38;5;28;01mNone\u001b[39;00m\n\u001b[1;32m--> 933\u001b[0m \u001b[38;5;28mself\u001b[39m\u001b[38;5;241m.\u001b[39m_engine \u001b[38;5;241m=\u001b[39m \u001b[38;5;28;43mself\u001b[39;49m\u001b[38;5;241;43m.\u001b[39;49m\u001b[43m_make_engine\u001b[49m\u001b[43m(\u001b[49m\u001b[43mf\u001b[49m\u001b[43m,\u001b[49m\u001b[43m \u001b[49m\u001b[38;5;28;43mself\u001b[39;49m\u001b[38;5;241;43m.\u001b[39;49m\u001b[43mengine\u001b[49m\u001b[43m)\u001b[49m\n",
      "File \u001b[1;32m~\\anaconda3\\lib\\site-packages\\pandas\\io\\parsers\\readers.py:1217\u001b[0m, in \u001b[0;36mTextFileReader._make_engine\u001b[1;34m(self, f, engine)\u001b[0m\n\u001b[0;32m   1213\u001b[0m     mode \u001b[38;5;241m=\u001b[39m \u001b[38;5;124m\"\u001b[39m\u001b[38;5;124mrb\u001b[39m\u001b[38;5;124m\"\u001b[39m\n\u001b[0;32m   1214\u001b[0m \u001b[38;5;66;03m# error: No overload variant of \"get_handle\" matches argument types\u001b[39;00m\n\u001b[0;32m   1215\u001b[0m \u001b[38;5;66;03m# \"Union[str, PathLike[str], ReadCsvBuffer[bytes], ReadCsvBuffer[str]]\"\u001b[39;00m\n\u001b[0;32m   1216\u001b[0m \u001b[38;5;66;03m# , \"str\", \"bool\", \"Any\", \"Any\", \"Any\", \"Any\", \"Any\"\u001b[39;00m\n\u001b[1;32m-> 1217\u001b[0m \u001b[38;5;28mself\u001b[39m\u001b[38;5;241m.\u001b[39mhandles \u001b[38;5;241m=\u001b[39m \u001b[43mget_handle\u001b[49m\u001b[43m(\u001b[49m\u001b[43m  \u001b[49m\u001b[38;5;66;43;03m# type: ignore[call-overload]\u001b[39;49;00m\n\u001b[0;32m   1218\u001b[0m \u001b[43m    \u001b[49m\u001b[43mf\u001b[49m\u001b[43m,\u001b[49m\n\u001b[0;32m   1219\u001b[0m \u001b[43m    \u001b[49m\u001b[43mmode\u001b[49m\u001b[43m,\u001b[49m\n\u001b[0;32m   1220\u001b[0m \u001b[43m    \u001b[49m\u001b[43mencoding\u001b[49m\u001b[38;5;241;43m=\u001b[39;49m\u001b[38;5;28;43mself\u001b[39;49m\u001b[38;5;241;43m.\u001b[39;49m\u001b[43moptions\u001b[49m\u001b[38;5;241;43m.\u001b[39;49m\u001b[43mget\u001b[49m\u001b[43m(\u001b[49m\u001b[38;5;124;43m\"\u001b[39;49m\u001b[38;5;124;43mencoding\u001b[39;49m\u001b[38;5;124;43m\"\u001b[39;49m\u001b[43m,\u001b[49m\u001b[43m \u001b[49m\u001b[38;5;28;43;01mNone\u001b[39;49;00m\u001b[43m)\u001b[49m\u001b[43m,\u001b[49m\n\u001b[0;32m   1221\u001b[0m \u001b[43m    \u001b[49m\u001b[43mcompression\u001b[49m\u001b[38;5;241;43m=\u001b[39;49m\u001b[38;5;28;43mself\u001b[39;49m\u001b[38;5;241;43m.\u001b[39;49m\u001b[43moptions\u001b[49m\u001b[38;5;241;43m.\u001b[39;49m\u001b[43mget\u001b[49m\u001b[43m(\u001b[49m\u001b[38;5;124;43m\"\u001b[39;49m\u001b[38;5;124;43mcompression\u001b[39;49m\u001b[38;5;124;43m\"\u001b[39;49m\u001b[43m,\u001b[49m\u001b[43m \u001b[49m\u001b[38;5;28;43;01mNone\u001b[39;49;00m\u001b[43m)\u001b[49m\u001b[43m,\u001b[49m\n\u001b[0;32m   1222\u001b[0m \u001b[43m    \u001b[49m\u001b[43mmemory_map\u001b[49m\u001b[38;5;241;43m=\u001b[39;49m\u001b[38;5;28;43mself\u001b[39;49m\u001b[38;5;241;43m.\u001b[39;49m\u001b[43moptions\u001b[49m\u001b[38;5;241;43m.\u001b[39;49m\u001b[43mget\u001b[49m\u001b[43m(\u001b[49m\u001b[38;5;124;43m\"\u001b[39;49m\u001b[38;5;124;43mmemory_map\u001b[39;49m\u001b[38;5;124;43m\"\u001b[39;49m\u001b[43m,\u001b[49m\u001b[43m \u001b[49m\u001b[38;5;28;43;01mFalse\u001b[39;49;00m\u001b[43m)\u001b[49m\u001b[43m,\u001b[49m\n\u001b[0;32m   1223\u001b[0m \u001b[43m    \u001b[49m\u001b[43mis_text\u001b[49m\u001b[38;5;241;43m=\u001b[39;49m\u001b[43mis_text\u001b[49m\u001b[43m,\u001b[49m\n\u001b[0;32m   1224\u001b[0m \u001b[43m    \u001b[49m\u001b[43merrors\u001b[49m\u001b[38;5;241;43m=\u001b[39;49m\u001b[38;5;28;43mself\u001b[39;49m\u001b[38;5;241;43m.\u001b[39;49m\u001b[43moptions\u001b[49m\u001b[38;5;241;43m.\u001b[39;49m\u001b[43mget\u001b[49m\u001b[43m(\u001b[49m\u001b[38;5;124;43m\"\u001b[39;49m\u001b[38;5;124;43mencoding_errors\u001b[39;49m\u001b[38;5;124;43m\"\u001b[39;49m\u001b[43m,\u001b[49m\u001b[43m \u001b[49m\u001b[38;5;124;43m\"\u001b[39;49m\u001b[38;5;124;43mstrict\u001b[39;49m\u001b[38;5;124;43m\"\u001b[39;49m\u001b[43m)\u001b[49m\u001b[43m,\u001b[49m\n\u001b[0;32m   1225\u001b[0m \u001b[43m    \u001b[49m\u001b[43mstorage_options\u001b[49m\u001b[38;5;241;43m=\u001b[39;49m\u001b[38;5;28;43mself\u001b[39;49m\u001b[38;5;241;43m.\u001b[39;49m\u001b[43moptions\u001b[49m\u001b[38;5;241;43m.\u001b[39;49m\u001b[43mget\u001b[49m\u001b[43m(\u001b[49m\u001b[38;5;124;43m\"\u001b[39;49m\u001b[38;5;124;43mstorage_options\u001b[39;49m\u001b[38;5;124;43m\"\u001b[39;49m\u001b[43m,\u001b[49m\u001b[43m \u001b[49m\u001b[38;5;28;43;01mNone\u001b[39;49;00m\u001b[43m)\u001b[49m\u001b[43m,\u001b[49m\n\u001b[0;32m   1226\u001b[0m \u001b[43m\u001b[49m\u001b[43m)\u001b[49m\n\u001b[0;32m   1227\u001b[0m \u001b[38;5;28;01massert\u001b[39;00m \u001b[38;5;28mself\u001b[39m\u001b[38;5;241m.\u001b[39mhandles \u001b[38;5;129;01mis\u001b[39;00m \u001b[38;5;129;01mnot\u001b[39;00m \u001b[38;5;28;01mNone\u001b[39;00m\n\u001b[0;32m   1228\u001b[0m f \u001b[38;5;241m=\u001b[39m \u001b[38;5;28mself\u001b[39m\u001b[38;5;241m.\u001b[39mhandles\u001b[38;5;241m.\u001b[39mhandle\n",
      "File \u001b[1;32m~\\anaconda3\\lib\\site-packages\\pandas\\io\\common.py:789\u001b[0m, in \u001b[0;36mget_handle\u001b[1;34m(path_or_buf, mode, encoding, compression, memory_map, is_text, errors, storage_options)\u001b[0m\n\u001b[0;32m    784\u001b[0m \u001b[38;5;28;01melif\u001b[39;00m \u001b[38;5;28misinstance\u001b[39m(handle, \u001b[38;5;28mstr\u001b[39m):\n\u001b[0;32m    785\u001b[0m     \u001b[38;5;66;03m# Check whether the filename is to be opened in binary mode.\u001b[39;00m\n\u001b[0;32m    786\u001b[0m     \u001b[38;5;66;03m# Binary mode does not support 'encoding' and 'newline'.\u001b[39;00m\n\u001b[0;32m    787\u001b[0m     \u001b[38;5;28;01mif\u001b[39;00m ioargs\u001b[38;5;241m.\u001b[39mencoding \u001b[38;5;129;01mand\u001b[39;00m \u001b[38;5;124m\"\u001b[39m\u001b[38;5;124mb\u001b[39m\u001b[38;5;124m\"\u001b[39m \u001b[38;5;129;01mnot\u001b[39;00m \u001b[38;5;129;01min\u001b[39;00m ioargs\u001b[38;5;241m.\u001b[39mmode:\n\u001b[0;32m    788\u001b[0m         \u001b[38;5;66;03m# Encoding\u001b[39;00m\n\u001b[1;32m--> 789\u001b[0m         handle \u001b[38;5;241m=\u001b[39m \u001b[38;5;28;43mopen\u001b[39;49m\u001b[43m(\u001b[49m\n\u001b[0;32m    790\u001b[0m \u001b[43m            \u001b[49m\u001b[43mhandle\u001b[49m\u001b[43m,\u001b[49m\n\u001b[0;32m    791\u001b[0m \u001b[43m            \u001b[49m\u001b[43mioargs\u001b[49m\u001b[38;5;241;43m.\u001b[39;49m\u001b[43mmode\u001b[49m\u001b[43m,\u001b[49m\n\u001b[0;32m    792\u001b[0m \u001b[43m            \u001b[49m\u001b[43mencoding\u001b[49m\u001b[38;5;241;43m=\u001b[39;49m\u001b[43mioargs\u001b[49m\u001b[38;5;241;43m.\u001b[39;49m\u001b[43mencoding\u001b[49m\u001b[43m,\u001b[49m\n\u001b[0;32m    793\u001b[0m \u001b[43m            \u001b[49m\u001b[43merrors\u001b[49m\u001b[38;5;241;43m=\u001b[39;49m\u001b[43merrors\u001b[49m\u001b[43m,\u001b[49m\n\u001b[0;32m    794\u001b[0m \u001b[43m            \u001b[49m\u001b[43mnewline\u001b[49m\u001b[38;5;241;43m=\u001b[39;49m\u001b[38;5;124;43m\"\u001b[39;49m\u001b[38;5;124;43m\"\u001b[39;49m\u001b[43m,\u001b[49m\n\u001b[0;32m    795\u001b[0m \u001b[43m        \u001b[49m\u001b[43m)\u001b[49m\n\u001b[0;32m    796\u001b[0m     \u001b[38;5;28;01melse\u001b[39;00m:\n\u001b[0;32m    797\u001b[0m         \u001b[38;5;66;03m# Binary mode\u001b[39;00m\n\u001b[0;32m    798\u001b[0m         handle \u001b[38;5;241m=\u001b[39m \u001b[38;5;28mopen\u001b[39m(handle, ioargs\u001b[38;5;241m.\u001b[39mmode)\n",
      "\u001b[1;31mFileNotFoundError\u001b[0m: [Errno 2] No such file or directory: 'Downloads\\\\penguins_size.csv'"
     ]
    }
   ],
   "source": [
    "ds=pd.read_csv(\"Downloads\\penguins_size.csv\")\n",
    "ds.head()"
   ]
  },
  {
   "cell_type": "code",
   "execution_count": null,
   "id": "d402e457",
   "metadata": {},
   "outputs": [],
   "source": [
    "ds.info()"
   ]
  },
  {
   "cell_type": "code",
   "execution_count": null,
   "id": "da912ad4",
   "metadata": {},
   "outputs": [],
   "source": [
    "ds.describe()"
   ]
  },
  {
   "cell_type": "code",
   "execution_count": null,
   "id": "42ec9ad5",
   "metadata": {},
   "outputs": [],
   "source": [
    "ds[\"species\"].unique()"
   ]
  },
  {
   "cell_type": "code",
   "execution_count": null,
   "id": "9359a7f9",
   "metadata": {},
   "outputs": [],
   "source": [
    "ds[\"sex\"].unique()"
   ]
  },
  {
   "cell_type": "code",
   "execution_count": null,
   "id": "e61ccace",
   "metadata": {},
   "outputs": [],
   "source": [
    "ds[\"island\"].unique()"
   ]
  },
  {
   "cell_type": "code",
   "execution_count": null,
   "id": "16dfffcc",
   "metadata": {},
   "outputs": [],
   "source": [
    "ds[\"species\"].value_counts()"
   ]
  },
  {
   "cell_type": "code",
   "execution_count": null,
   "id": "10a8bc91",
   "metadata": {},
   "outputs": [],
   "source": [
    "ds[\"island\"].value_counts()"
   ]
  },
  {
   "cell_type": "code",
   "execution_count": null,
   "id": "b3ebdafb",
   "metadata": {},
   "outputs": [],
   "source": [
    "ds[\"sex\"].value_counts()"
   ]
  },
  {
   "cell_type": "code",
   "execution_count": null,
   "id": "afbcc462",
   "metadata": {},
   "outputs": [],
   "source": [
    "ds.shape"
   ]
  },
  {
   "cell_type": "code",
   "execution_count": null,
   "id": "0609b59d",
   "metadata": {},
   "outputs": [],
   "source": [
    "ds=ds[ds[\"sex\"]!=\".\"]\n",
    "ds.shape"
   ]
  },
  {
   "cell_type": "code",
   "execution_count": null,
   "id": "d02a0502",
   "metadata": {},
   "outputs": [],
   "source": [
    "sns.scatterplot(x=\"culmen_length_mm\",y=\"culmen_depth_mm\",hue=\"species\",data=ds)"
   ]
  },
  {
   "cell_type": "code",
   "execution_count": null,
   "id": "e005d899",
   "metadata": {},
   "outputs": [],
   "source": [
    "sns.pairplot(ds,hue=\"species\")"
   ]
  },
  {
   "cell_type": "code",
   "execution_count": null,
   "id": "2ab7c0c1",
   "metadata": {},
   "outputs": [],
   "source": [
    "sns.catplot(x=\"species\",y=\"culmen_length_mm\",data=ds,kind=\"box\",col=\"sex\")"
   ]
  },
  {
   "cell_type": "code",
   "execution_count": null,
   "id": "1f29fb25",
   "metadata": {},
   "outputs": [],
   "source": [
    "#feature engineering \n",
    "ds.isnull().sum()"
   ]
  },
  {
   "cell_type": "code",
   "execution_count": null,
   "id": "1cbb7339",
   "metadata": {},
   "outputs": [],
   "source": [
    "sns.displot(\"species\",bins=10,kde=True)\n",
    "plt.xlabel(\"observred values\")\n",
    "plt.ylabel(\"fitted_values\")\n",
    "plt.show()\n",
    "#plt.hist(test-res)\n"
   ]
  },
  {
   "cell_type": "code",
   "execution_count": null,
   "id": "817da366",
   "metadata": {},
   "outputs": [],
   "source": [
    "sns.displot(ds[\"island\"],bins=10,kde=True)\n",
    "plt.title(\"histogram of island \")\n"
   ]
  },
  {
   "cell_type": "code",
   "execution_count": null,
   "id": "22acfd69",
   "metadata": {},
   "outputs": [],
   "source": [
    "sns.displot(ds[\"culmen_length_mm\"],bins=10,kde=True)\n",
    "plt.title(\"histogram of culmen_length_mm \")\n"
   ]
  },
  {
   "cell_type": "code",
   "execution_count": null,
   "id": "2da32810",
   "metadata": {},
   "outputs": [],
   "source": [
    "sns.displot(ds[\"culmen_depth_mm\"],bins=10,kde=True)\n",
    "plt.title(\"histogram of culmen_depth_mm \")\n"
   ]
  },
  {
   "cell_type": "code",
   "execution_count": null,
   "id": "32ddc861",
   "metadata": {},
   "outputs": [],
   "source": [
    "sns.displot(ds[\"flipper_length_mm\"],bins=10,kde=True)\n",
    "plt.title(\"histogram of flipper_length_mm\")\n"
   ]
  },
  {
   "cell_type": "code",
   "execution_count": null,
   "id": "119207a9",
   "metadata": {},
   "outputs": [],
   "source": [
    "sns.displot(ds[\"body_mass_g\"],bins=10,kde=True)\n",
    "plt.title(\"histogram ofbody_mass_g \")\n"
   ]
  },
  {
   "cell_type": "code",
   "execution_count": null,
   "id": "11ceebe2",
   "metadata": {},
   "outputs": [],
   "source": [
    "sns.displot(ds[\"sex\"],bins=10,kde=True)\n",
    "plt.title(\"histogram of sex   \")\n"
   ]
  },
  {
   "cell_type": "code",
   "execution_count": null,
   "id": "8f29d493",
   "metadata": {},
   "outputs": [],
   "source": [
    "sns.boxplot(x=ds[\"culmen_length_mm\"])\n",
    "plt.show()"
   ]
  },
  {
   "cell_type": "code",
   "execution_count": null,
   "id": "12ff66df",
   "metadata": {},
   "outputs": [],
   "source": [
    "sns.boxplot(x=\"culmen_depth_mm\",data=ds)\n",
    "plt.show()"
   ]
  },
  {
   "cell_type": "code",
   "execution_count": null,
   "id": "1168da2b",
   "metadata": {},
   "outputs": [],
   "source": [
    "sns.boxplot(x=\"flipper_length_mm\",data=ds)\n",
    "plt.show()"
   ]
  },
  {
   "cell_type": "code",
   "execution_count": null,
   "id": "d2d985f4",
   "metadata": {},
   "outputs": [],
   "source": [
    "sns.boxplot(x=\"body_mass_g\",data=ds)\n",
    "plt.show()"
   ]
  },
  {
   "cell_type": "code",
   "execution_count": null,
   "id": "d69bc049",
   "metadata": {},
   "outputs": [],
   "source": [
    "sns.boxplot(x=\"body_mass_g\",y=\"culmen_length_mm\",data=ds)\n",
    "plt.show()"
   ]
  },
  {
   "cell_type": "code",
   "execution_count": null,
   "id": "4e739d2e",
   "metadata": {},
   "outputs": [],
   "source": [
    "#treating missing value \n",
    "ds=ds.dropna()\n",
    "ds.shape"
   ]
  },
  {
   "cell_type": "code",
   "execution_count": null,
   "id": "524c8ec6",
   "metadata": {},
   "outputs": [],
   "source": [
    "ds"
   ]
  },
  {
   "cell_type": "markdown",
   "id": "7958f2e8",
   "metadata": {},
   "source": [
    "# no outiler in data set \n",
    "#traet the skew data \n"
   ]
  },
  {
   "cell_type": "code",
   "execution_count": null,
   "id": "e21bc73c",
   "metadata": {},
   "outputs": [],
   "source": [
    "ds[\"culmen_length_mm\"].skew()"
   ]
  },
  {
   "cell_type": "code",
   "execution_count": null,
   "id": "02a7f5cb",
   "metadata": {},
   "outputs": [],
   "source": [
    "ds[\"culmen_depth_mm\"].skew()"
   ]
  },
  {
   "cell_type": "code",
   "execution_count": null,
   "id": "095fca36",
   "metadata": {},
   "outputs": [],
   "source": [
    "ds[\"flipper_length_mm\"].skew()"
   ]
  },
  {
   "cell_type": "code",
   "execution_count": null,
   "id": "cbb52965",
   "metadata": {},
   "outputs": [],
   "source": [
    "ds[\"body_mass_g\"].skew()"
   ]
  },
  {
   "cell_type": "code",
   "execution_count": null,
   "id": "0bed0c3e",
   "metadata": {},
   "outputs": [],
   "source": [
    "ds[\"x-body_mass_g\"]=ds[\"body_mass_g\"]**(1/49220)\n",
    "ds[\"x-body_mass_g\"].skew()"
   ]
  },
  {
   "cell_type": "code",
   "execution_count": null,
   "id": "11af9c09",
   "metadata": {},
   "outputs": [],
   "source": [
    "ds[\"xflipper_length_mm\"]=ds[\"flipper_length_mm\"]**(1/9999999)\n",
    "ds[\"xflipper_length_mm\"].skew()"
   ]
  },
  {
   "cell_type": "code",
   "execution_count": null,
   "id": "cc81537b",
   "metadata": {},
   "outputs": [],
   "source": [
    "ds[\"xculmen_depth_mm\"]=ds[\"culmen_depth_mm\"]**(2.009)\n",
    "ds[\"xculmen_depth_mm\"].skew()"
   ]
  },
  {
   "cell_type": "code",
   "execution_count": null,
   "id": "956cda11",
   "metadata": {},
   "outputs": [],
   "source": [
    "#encoding \n",
    "pd.get_dummies(ds.drop(\"species\",axis=1),drop_first=True)"
   ]
  },
  {
   "cell_type": "code",
   "execution_count": null,
   "id": "e6393dc8",
   "metadata": {},
   "outputs": [],
   "source": [
    "x=pd.get_dummies(ds.drop(\"species\",axis=1),drop_first=True)"
   ]
  },
  {
   "cell_type": "code",
   "execution_count": null,
   "id": "2278fd4f",
   "metadata": {},
   "outputs": [],
   "source": [
    "y=ds[\"species\"]\n",
    "y"
   ]
  },
  {
   "cell_type": "code",
   "execution_count": null,
   "id": "3e2ded55",
   "metadata": {},
   "outputs": [],
   "source": [
    "#train test split\n",
    "from sklearn.model_selection import train_test_split\n",
    "x_train,x_test,y_train,y_test=train_test_split(x,y,test_size=0.25,random_state=100)"
   ]
  },
  {
   "cell_type": "code",
   "execution_count": null,
   "id": "b2bc1a90",
   "metadata": {},
   "outputs": [],
   "source": [
    "#scaling use here standardscaler\n",
    "from sklearn.preprocessing import StandardScaler\n",
    "sc= StandardScaler()\n",
    "\n",
    "x_train=sc.fit_transform(x_train)\n",
    "x_test=sc.transform(x_test)"
   ]
  },
  {
   "cell_type": "markdown",
   "id": "05ef41bd",
   "metadata": {},
   "source": [
    "# Logostic regression in ml with defult parameter"
   ]
  },
  {
   "cell_type": "code",
   "execution_count": null,
   "id": "9438b287",
   "metadata": {},
   "outputs": [],
   "source": [
    "from sklearn.linear_model import LogisticRegression \n",
    "\n",
    "log_model=LogisticRegression()\n",
    "\n",
    "\n",
    "log_model.fit(x_train,y_train)\n",
    "\n"
   ]
  },
  {
   "cell_type": "code",
   "execution_count": null,
   "id": "9c92ec13",
   "metadata": {},
   "outputs": [],
   "source": [
    "#prediction \n",
    "#predicctopn on ur train data \n",
    "ytrain_prediction=log_model.predict(x_train)\n",
    "\n",
    "#predicctopn on ur test data \n",
    "ytest_prediction=log_model.predict(x_test)"
   ]
  },
  {
   "cell_type": "code",
   "execution_count": null,
   "id": "9fccaf3a",
   "metadata": {},
   "outputs": [],
   "source": [
    "#EVALUTION \n",
    "from sklearn.metrics import accuracy_score\n",
    "\n",
    "accuracy_score(y_train,ytrain_prediction)  #train accuracy\n"
   ]
  },
  {
   "cell_type": "code",
   "execution_count": null,
   "id": "c330e3a2",
   "metadata": {},
   "outputs": [],
   "source": [
    "accuracy_score(y_test,ytest_prediction)    #test accuracy\n"
   ]
  },
  {
   "cell_type": "code",
   "execution_count": null,
   "id": "0ec2fa36",
   "metadata": {},
   "outputs": [],
   "source": [
    "from sklearn.metrics import confusion_matrix\n",
    "confusion_matrix(y_test,ytest_prediction)"
   ]
  },
  {
   "cell_type": "code",
   "execution_count": null,
   "id": "ad97af74",
   "metadata": {},
   "outputs": [],
   "source": [
    "from sklearn.metrics import plot_confusion_matrix\n",
    "plot_confusion_matrix(log_model,x_test,y_test)"
   ]
  },
  {
   "cell_type": "code",
   "execution_count": null,
   "id": "5a29de07",
   "metadata": {},
   "outputs": [],
   "source": [
    "#cross validation \n",
    "from sklearn.model_selection import cross_val_score\n",
    "sc=cross_val_score(log_model,x,y,cv=5)\n",
    "print(sc)\n",
    "sc.mean()"
   ]
  },
  {
   "cell_type": "code",
   "execution_count": null,
   "id": "e7d2ed2d",
   "metadata": {},
   "outputs": [],
   "source": [
    "#classification report\n",
    "from sklearn.metrics import classification_report\n",
    "print(classification_report(y_test,ytest_prediction))"
   ]
  },
  {
   "cell_type": "code",
   "execution_count": null,
   "id": "28a0e90d",
   "metadata": {},
   "outputs": [],
   "source": [
    "from sklearn.metrics import plot_roc_curve\n",
    "print(plot_roc_curve(log_model,x_test,y_test))"
   ]
  },
  {
   "cell_type": "markdown",
   "id": "095fe88c",
   "metadata": {},
   "source": [
    "# KNN model alogrith"
   ]
  },
  {
   "cell_type": "code",
   "execution_count": null,
   "id": "7f657164",
   "metadata": {},
   "outputs": [],
   "source": [
    "#modeling with defult paramertors \n",
    "from sklearn.neighbors import KNeighborsClassifier\n",
    "knn_model= KNeighborsClassifier()\n",
    "knn_model.fit(x_train,y_train)"
   ]
  },
  {
   "cell_type": "code",
   "execution_count": null,
   "id": "8c93b1b9",
   "metadata": {},
   "outputs": [],
   "source": [
    "#prediction\n",
    "train_yprediction=knn_model.predict(x_train)\n",
    "test_yprediction=knn_model.predict(x_test)"
   ]
  },
  {
   "cell_type": "code",
   "execution_count": null,
   "id": "4bb080da",
   "metadata": {},
   "outputs": [],
   "source": [
    "#evalution\n",
    "from sklearn.metrics import accuracy_score\n",
    "print(accuracy_score(y_train,train_yprediction))\n",
    "print(accuracy_score(y_test,test_yprediction))"
   ]
  },
  {
   "cell_type": "code",
   "execution_count": null,
   "id": "b17a4e23",
   "metadata": {},
   "outputs": [],
   "source": [
    "#cross validation\n",
    "from sklearn.model_selection import cross_val_score\n",
    "sc=cross_val_score(knn_model,x,y,cv=5)\n",
    "print(sc)\n",
    "sc.mean()"
   ]
  },
  {
   "cell_type": "markdown",
   "id": "063f99d3",
   "metadata": {},
   "source": [
    "# 2 choosing best k value using hyper-parametors tunning for knn classifier"
   ]
  },
  {
   "cell_type": "code",
   "execution_count": null,
   "id": "70fe48de",
   "metadata": {},
   "outputs": [],
   "source": [
    "from sklearn.model_selection import GridSearchCV\n",
    "\n",
    "estimator=KNeighborsClassifier()\n",
    "\n",
    "param_grid={\"n_neighbors\":list(range(1,31)),\"p\":[1,2]}\n",
    "hypertvalue=GridSearchCV(estimator,param_grid,cv=5,scoring=\"accuracy\")\n",
    "hypertvalue.fit(x_train,y_train)"
   ]
  },
  {
   "cell_type": "code",
   "execution_count": null,
   "id": "13c03975",
   "metadata": {},
   "outputs": [],
   "source": [
    "hypertvalue.best_params_"
   ]
  },
  {
   "cell_type": "markdown",
   "id": "239073e7",
   "metadata": {},
   "source": [
    "# rebuild the model with hyper tunning pareams"
   ]
  },
  {
   "cell_type": "code",
   "execution_count": null,
   "id": "88d73cc4",
   "metadata": {},
   "outputs": [],
   "source": [
    "#rebuild the model with hyper tunning pareams\n",
    "knn_model=KNeighborsClassifier(n_neighbors=1,p=1)\n",
    "knn_model.fit(x_train,y_train)\n",
    "\n",
    "train_yprediction=knn_model.predict(x_train)\n",
    "test_yprediction=knn_model.predict(x_test)\n",
    "\n",
    "print(accuracy_score(y_train,train_yprediction))\n",
    "print(accuracy_score(y_test,test_yprediction))"
   ]
  },
  {
   "cell_type": "code",
   "execution_count": null,
   "id": "b6bde277",
   "metadata": {},
   "outputs": [],
   "source": [
    "from sklearn.metrics import confusion_matrix\n",
    "confusion_matrix(y_test,test_yprediction)"
   ]
  },
  {
   "cell_type": "code",
   "execution_count": null,
   "id": "22303a2a",
   "metadata": {
    "scrolled": true
   },
   "outputs": [],
   "source": [
    "from sklearn.metrics import classification_report\n",
    "print(classification_report(y_test,test_yprediction))"
   ]
  },
  {
   "cell_type": "markdown",
   "id": "3e6c0821",
   "metadata": {},
   "source": [
    "# support vector machines (svm) wth defult parameter"
   ]
  },
  {
   "cell_type": "code",
   "execution_count": null,
   "id": "ac94e8b3",
   "metadata": {},
   "outputs": [],
   "source": [
    "#support vector machines (svm) wth defult parameter\n",
    "from sklearn.svm import SVC\n",
    "model=SVC()\n",
    "model.fit(x_train,y_train)"
   ]
  },
  {
   "cell_type": "code",
   "execution_count": null,
   "id": "09dfe467",
   "metadata": {},
   "outputs": [],
   "source": [
    "#prediction\n",
    "train_pred=log_model.predict(x_train)\n",
    "test_pred=log_model.predict(x_test)"
   ]
  },
  {
   "cell_type": "code",
   "execution_count": null,
   "id": "fc14e4a4",
   "metadata": {},
   "outputs": [],
   "source": [
    "#accuracy\n",
    "from sklearn.metrics import accuracy_score\n",
    "print(accuracy_score(y_train,train_pred))\n",
    "print(accuracy_score(y_test,test_pred))"
   ]
  },
  {
   "cell_type": "code",
   "execution_count": null,
   "id": "4cde58d1",
   "metadata": {},
   "outputs": [],
   "source": [
    "#cross validation\n",
    "from sklearn.model_selection import cross_val_score\n",
    "sc=cross_val_score(log_model,x,y,cv=5)\n",
    "print(sc)\n",
    "sc.mean()"
   ]
  },
  {
   "cell_type": "markdown",
   "id": "ddcca56a",
   "metadata": {},
   "source": [
    "# hyper tunning  with svm "
   ]
  },
  {
   "cell_type": "code",
   "execution_count": null,
   "id": "9760d709",
   "metadata": {},
   "outputs": [],
   "source": [
    "from sklearn.model_selection import GridSearchCV\n",
    "estimator=SVC()\n",
    "param_grid={\"C\":[0.01,0.1,0.001,1.0,1,2,3,4,10,100],\"kernel\":[\"linear\",\"poly\",\"rbf\",\"sigmoid\"],\"gamma\":[0.001,0.0011,1.0,1]}\n",
    "\n",
    "#'c':[1,10,100,1000],'kernel':['linear'],'c':[1,10,100,1000],'gamma':[0.001,0.0001],'kernel':['rbf']}\n",
    "#\"C\":[0,1,100],\"kernal\":[\"linear\",\"rbf\",\"sigmoid\",\"poly\"]}\n",
    "\n",
    "grid=GridSearchCV(estimator,param_grid,cv=5)\n",
    "\n",
    "grid.fit(x,y)\n"
   ]
  },
  {
   "cell_type": "code",
   "execution_count": null,
   "id": "7e297b64",
   "metadata": {},
   "outputs": [],
   "source": [
    "grid.best_params_"
   ]
  },
  {
   "cell_type": "markdown",
   "id": "bc4ad194",
   "metadata": {},
   "source": [
    "# rebuild the with best hyper tunning value"
   ]
  },
  {
   "cell_type": "code",
   "execution_count": null,
   "id": "8a0f39a5",
   "metadata": {},
   "outputs": [],
   "source": [
    "#rebuild the with best hyper tunning value\n",
    "model=SVC(kernel=\"linear\",C=0.01)\n",
    "model.fit(x_train,y_train)\n",
    "\n",
    "train_prediction=model.predict(x_train)\n",
    "test_prediction=model.predict(x_test)\n",
    "\n",
    "print(accuracy_score(y_train,train_prediction))  #trainaccuracy\n",
    "print(accuracy_score(y_test,test_prediction))    #testaccuracy"
   ]
  },
  {
   "cell_type": "markdown",
   "id": "76688857",
   "metadata": {},
   "source": [
    "# Descsion tree #modelling with defult parameter decision "
   ]
  },
  {
   "cell_type": "code",
   "execution_count": null,
   "id": "67c1b16f",
   "metadata": {},
   "outputs": [],
   "source": [
    "#modelling with defult parameter decision \n",
    "from sklearn.tree import DecisionTreeClassifier\n",
    "model=DecisionTreeClassifier()\n",
    "model.fit(x_train,y_train)"
   ]
  },
  {
   "cell_type": "code",
   "execution_count": null,
   "id": "bb399686",
   "metadata": {},
   "outputs": [],
   "source": [
    "#prediction \n",
    "test_pred=model.predict(x_test)\n",
    "train_pred=model.predict(x_train)"
   ]
  },
  {
   "cell_type": "code",
   "execution_count": null,
   "id": "61dd1db0",
   "metadata": {},
   "outputs": [],
   "source": [
    "#evaluation \n",
    "from sklearn.metrics import classification_report,plot_confusion_matrix,accuracy_score\n",
    "\n",
    "print(accuracy_score(y_train,train_pred))\n",
    "accuracy_score(y_test,test_pred)\n"
   ]
  },
  {
   "cell_type": "code",
   "execution_count": null,
   "id": "e64c7124",
   "metadata": {},
   "outputs": [],
   "source": [
    "#cross validation\n",
    "from sklearn.model_selection import cross_val_score\n",
    "sc=cross_val_score(model,x,y,cv=5)\n",
    "print(sc)\n",
    "sc.mean()"
   ]
  },
  {
   "cell_type": "code",
   "execution_count": null,
   "id": "b4827bb0",
   "metadata": {},
   "outputs": [],
   "source": [
    "plot_confusion_matrix(model,x_test,y_test)\n",
    "plt.show()"
   ]
  },
  {
   "cell_type": "code",
   "execution_count": null,
   "id": "0a589123",
   "metadata": {},
   "outputs": [],
   "source": [
    "print(classification_report(y_test,test_pred))"
   ]
  },
  {
   "cell_type": "markdown",
   "id": "c6d043e5",
   "metadata": {},
   "source": [
    "# model importance is showing the best feature/coumns high impotances choes the in decision "
   ]
  },
  {
   "cell_type": "code",
   "execution_count": null,
   "id": "356d0573",
   "metadata": {},
   "outputs": [],
   "source": [
    "model.feature_importances_"
   ]
  },
  {
   "cell_type": "code",
   "execution_count": null,
   "id": "e771c10f",
   "metadata": {},
   "outputs": [],
   "source": [
    "pd.DataFrame(index=x.columns,data=model.feature_importances_,columns=[\"FeatureImportances\"])"
   ]
  },
  {
   "cell_type": "markdown",
   "id": "f8491d0a",
   "metadata": {},
   "source": [
    "# visualize the trees "
   ]
  },
  {
   "cell_type": "code",
   "execution_count": null,
   "id": "d6c7769a",
   "metadata": {},
   "outputs": [],
   "source": [
    "from sklearn.tree import plot_tree\n",
    "plt.figure(figsize=(12,10),dpi=500)\n",
    "plot_tree(model,filled=True,feature_names=x.columns)\n",
    "plt.show()"
   ]
  },
  {
   "cell_type": "markdown",
   "id": "216773fa",
   "metadata": {},
   "source": [
    "# optimization --pruning of decision tree pruning mean cutting uneseeracy part of tree\n"
   ]
  },
  {
   "cell_type": "code",
   "execution_count": null,
   "id": "a59508d8",
   "metadata": {},
   "outputs": [],
   "source": [
    "pruned_tree=DecisionTreeClassifier(max_depth=2)\n"
   ]
  },
  {
   "cell_type": "code",
   "execution_count": null,
   "id": "5fdd0b4a",
   "metadata": {},
   "outputs": [],
   "source": [
    "def report_model(model):\n",
    "    model.fit(x_train,y_train)\n",
    "    train_pred=model.predict(x_train)\n",
    "    test_pred=model.predict(x_test)\n",
    "    print(accuracy_score(y_train,train_pred))\n",
    "    print(accuracy_score(y_test,test_pred))\n",
    "    plt.figure(figsize=(12,12),dpi=150)\n",
    "    plot_tree(model,filled=True,feature_names=x.columns)\n",
    "    \n",
    "    "
   ]
  },
  {
   "cell_type": "code",
   "execution_count": null,
   "id": "f8bdbfe1",
   "metadata": {},
   "outputs": [],
   "source": [
    "report_model(pruned_tree)"
   ]
  },
  {
   "cell_type": "markdown",
   "id": "08d46eb7",
   "metadata": {},
   "source": [
    "# max leaf nodes"
   ]
  },
  {
   "cell_type": "code",
   "execution_count": null,
   "id": "40762f51",
   "metadata": {},
   "outputs": [],
   "source": [
    "pruned_tree=DecisionTreeClassifier(max_leaf_nodes=3)\n",
    "report_model(pruned_tree)"
   ]
  },
  {
   "cell_type": "markdown",
   "id": "130133fa",
   "metadata": {},
   "source": [
    "# using hyper paramer tunning"
   ]
  },
  {
   "cell_type": "code",
   "execution_count": null,
   "id": "65623967",
   "metadata": {},
   "outputs": [],
   "source": [
    "from sklearn.model_selection import GridSearchCV\n",
    "\n",
    "estimator=DecisionTreeClassifier()\n",
    "\n",
    "param_grid={\"min_samples_split\":[1,2,3,4],\"min_samples_leaf\":[1,2,3,4],\"max_depth\":[1,2,3,4],\"criterion\":[\"gini\",\"entropy\"]}\n",
    "\n",
    "#\"min_samples_split\":[1,2,3,4],\"min_samples_leaf\":[1,2,3,4],\"max_depth\":[1,2,3,4],\"criterion\":[\"gini\",\"entropy\"]}\n",
    "#\"min_samples_split\":list(range(1,10)),\"criterion\":[\"gini\",\"entropy\"]}\n",
    "\n",
    "grid=GridSearchCV(estimator,param_grid,cv=5,scoring=\"accuracy\")\n",
    "\n",
    "grid.fit(x,y)"
   ]
  },
  {
   "cell_type": "code",
   "execution_count": null,
   "id": "d2ea8016",
   "metadata": {},
   "outputs": [],
   "source": [
    "grid.best_params_"
   ]
  },
  {
   "cell_type": "markdown",
   "id": "387ec0ad",
   "metadata": {},
   "source": [
    "# rebuild model with hyper paramer tuning with best value"
   ]
  },
  {
   "cell_type": "code",
   "execution_count": null,
   "id": "7650ade5",
   "metadata": {},
   "outputs": [],
   "source": [
    "d_model=DecisionTreeClassifier(criterion='gini',\n",
    " max_depth= 2,\n",
    " min_samples_leaf=1,\n",
    " min_samples_split=2)\n",
    "    \n",
    "\n",
    "#criterion=\"entropy\",min_samples_split=3\n",
    "\n",
    "\n",
    "d_model.fit(x_train,y_train)\n",
    "\n",
    "train_pred=d_model.predict(x_train)\n",
    "test_pred=d_model.predict(x_test)\n",
    "\n",
    "print(accuracy_score(y_train,train_pred))\n",
    "print(accuracy_score(y_test,test_pred))"
   ]
  },
  {
   "cell_type": "code",
   "execution_count": null,
   "id": "9288297d",
   "metadata": {},
   "outputs": [],
   "source": [
    "d_model.predict([[119,223,19,3233,33,44,443,22,99,66]])"
   ]
  },
  {
   "cell_type": "markdown",
   "id": "4f40b906",
   "metadata": {},
   "source": [
    "# Random Forest alogorith in ml with defult parameter"
   ]
  },
  {
   "cell_type": "code",
   "execution_count": null,
   "id": "3e947328",
   "metadata": {},
   "outputs": [],
   "source": [
    "#modelling with defult parameter decision  random forest with defult \n",
    "\n",
    "from sklearn.ensemble import RandomForestClassifier\n",
    "model=RandomForestClassifier()\n",
    "model.fit(x_train,y_train)"
   ]
  },
  {
   "cell_type": "code",
   "execution_count": null,
   "id": "2e0bca42",
   "metadata": {},
   "outputs": [],
   "source": [
    "#prediction \n",
    "test_pred=model.predict(x_test)\n",
    "train_pred=model.predict(x_train)"
   ]
  },
  {
   "cell_type": "code",
   "execution_count": null,
   "id": "9d7679be",
   "metadata": {},
   "outputs": [],
   "source": [
    "#evaluation \n",
    "from sklearn.metrics import classification_report,plot_confusion_matrix,accuracy_score\n",
    "\n",
    "print(accuracy_score(y_train,train_pred))\n",
    "print(accuracy_score(y_test,test_pred))\n"
   ]
  },
  {
   "cell_type": "code",
   "execution_count": null,
   "id": "b5345e05",
   "metadata": {},
   "outputs": [],
   "source": [
    "#cross validation\n",
    "from sklearn.model_selection import cross_val_score\n",
    "sc=cross_val_score(model,x,y,cv=5)\n",
    "print(sc)\n",
    "sc.mean()"
   ]
  },
  {
   "cell_type": "code",
   "execution_count": null,
   "id": "9ed50820",
   "metadata": {},
   "outputs": [],
   "source": [
    "plot_confusion_matrix(model,x_test,y_test)\n",
    "plt.show()"
   ]
  },
  {
   "cell_type": "code",
   "execution_count": null,
   "id": "d9e03661",
   "metadata": {},
   "outputs": [],
   "source": [
    "print(classification_report(y_test,test_pred))"
   ]
  },
  {
   "cell_type": "code",
   "execution_count": null,
   "id": "25ffff9d",
   "metadata": {},
   "outputs": [],
   "source": [
    "from sklearn.model_selection import cross_val_score\n",
    "sc=cross_val_score(model,x,y,cv=5)\n",
    "print(sc.mean())"
   ]
  },
  {
   "cell_type": "markdown",
   "id": "36de0995",
   "metadata": {},
   "source": [
    "# model importance is showing the best feature/coumns high impotances choes the in decision"
   ]
  },
  {
   "cell_type": "code",
   "execution_count": null,
   "id": "7e3fd718",
   "metadata": {},
   "outputs": [],
   "source": [
    "model.feature_importances_"
   ]
  },
  {
   "cell_type": "code",
   "execution_count": null,
   "id": "fd363604",
   "metadata": {},
   "outputs": [],
   "source": [
    "pd.DataFrame(index=x.columns,data=model.feature_importances_,columns=[\"FeatureImportances\"])"
   ]
  },
  {
   "cell_type": "markdown",
   "id": "041903f6",
   "metadata": {},
   "source": [
    "# hyperparamerter tunning for best parameter random forest "
   ]
  },
  {
   "cell_type": "code",
   "execution_count": null,
   "id": "265b3aa4",
   "metadata": {},
   "outputs": [],
   "source": [
    "from sklearn.model_selection import GridSearchCV\n",
    "\n",
    "estimator=RandomForestClassifier()\n",
    "\n",
    "#parametrer (which you want to tune and idenify the best )\n",
    "param_grid={\"n_estimators\":list(range(1,101))}\n",
    "\n",
    "grid=GridSearchCV(estimator,param_grid,cv=5,scoring=\"accuracy\")\n",
    "\n",
    "grid.fit(x,y)\n"
   ]
  },
  {
   "cell_type": "code",
   "execution_count": null,
   "id": "a8e9de3c",
   "metadata": {},
   "outputs": [],
   "source": [
    "grid.best_params_"
   ]
  },
  {
   "cell_type": "markdown",
   "id": "e30f2bd6",
   "metadata": {},
   "source": [
    "# rebuild the model with hyper tunning best params in random forest"
   ]
  },
  {
   "cell_type": "code",
   "execution_count": null,
   "id": "2b3b9f5f",
   "metadata": {},
   "outputs": [],
   "source": [
    "randomforest_model=RandomForestClassifier(n_estimators=3)\n",
    "\n",
    "randomforest_model.fit(x_train,y_train)\n",
    "\n",
    "train_pred=randomforest_model.predict(x_train)\n",
    "test_pred=randomforest_model.predict(x_test)\n",
    "\n",
    "print(accuracy_score(y_train,train_pred))\n",
    "print(accuracy_score(y_test,test_pred))"
   ]
  },
  {
   "cell_type": "code",
   "execution_count": null,
   "id": "e6268dd8",
   "metadata": {},
   "outputs": [],
   "source": [
    "#cross validation\n",
    "from sklearn.model_selection import cross_val_score\n",
    "sc=cross_val_score(randomforest_model,x,y,cv=5)\n",
    "print(sc)\n",
    "sc.mean()"
   ]
  },
  {
   "cell_type": "code",
   "execution_count": null,
   "id": "db1f642b",
   "metadata": {},
   "outputs": [],
   "source": [
    "randomforest_model.predict([[1,2,2,0,0,2,2,0,55,88]])"
   ]
  },
  {
   "cell_type": "code",
   "execution_count": null,
   "id": "811dfeb9",
   "metadata": {},
   "outputs": [],
   "source": [
    "x.shape,y.shape"
   ]
  },
  {
   "cell_type": "markdown",
   "id": "38605c54",
   "metadata": {},
   "source": [
    "# AdaBoost alogorithm in ml with defult parameter"
   ]
  },
  {
   "cell_type": "code",
   "execution_count": null,
   "id": "1f37452a",
   "metadata": {},
   "outputs": [],
   "source": [
    "#modeling with defual parameter\n",
    "from sklearn.ensemble import AdaBoostClassifier\n",
    "model=AdaBoostClassifier()\n",
    "model.fit(x_train,y_train)"
   ]
  },
  {
   "cell_type": "code",
   "execution_count": null,
   "id": "15218976",
   "metadata": {},
   "outputs": [],
   "source": [
    "#prediction \n",
    "train_pred=model.predict(x_train)\n",
    "test_pred=model.predict(x_test)"
   ]
  },
  {
   "cell_type": "code",
   "execution_count": null,
   "id": "d8bcd525",
   "metadata": {},
   "outputs": [],
   "source": [
    "#evaluation\n",
    "from sklearn.metrics import accuracy_score\n",
    "print(accuracy_score(y_train,train_pred))\n",
    "print(accuracy_score(y_test,test_pred))"
   ]
  },
  {
   "cell_type": "code",
   "execution_count": null,
   "id": "6b786f96",
   "metadata": {},
   "outputs": [],
   "source": [
    "#cross validation\n",
    "from sklearn.model_selection import cross_val_score\n",
    "sc=cross_val_score(model,x,y,cv=5)\n",
    "print(sc)\n",
    "sc.mean()"
   ]
  },
  {
   "cell_type": "code",
   "execution_count": null,
   "id": "8a852135",
   "metadata": {},
   "outputs": [],
   "source": [
    "#confusion matrix \n",
    "from sklearn.metrics import plot_confusion_matrix\n",
    "plot_confusion_matrix(model,x_test,y_test)\n",
    "plt.show()"
   ]
  },
  {
   "cell_type": "code",
   "execution_count": null,
   "id": "68ef4b0e",
   "metadata": {},
   "outputs": [],
   "source": [
    "#classification_report\n",
    "from sklearn.metrics import classification_report\n",
    "print(classification_report(y_test,test_pred))"
   ]
  },
  {
   "cell_type": "code",
   "execution_count": null,
   "id": "63653b5f",
   "metadata": {},
   "outputs": [],
   "source": [
    "#cross validation score\n",
    "from sklearn.model_selection import cross_val_score\n",
    "sc=cross_val_score(model,x,y,cv=5)\n",
    "print(sc.mean())"
   ]
  },
  {
   "cell_type": "markdown",
   "id": "ec294637",
   "metadata": {},
   "source": [
    "# hyerpamater tunning in Adaboost "
   ]
  },
  {
   "cell_type": "code",
   "execution_count": null,
   "id": "4b0b6693",
   "metadata": {},
   "outputs": [],
   "source": [
    "#hyerpamater tunning \n",
    "from sklearn.model_selection import GridSearchCV\n",
    "estimator=AdaBoostClassifier()\n",
    "\n",
    "pram_grid={\"n_estimators\":list(range(1,101))}\n",
    "\n",
    "grid=GridSearchCV(estimator,pram_grid,cv=5,scoring=\"accuracy\")\n",
    "grid.fit(x_train,y_train)\n",
    "grid.best_params_"
   ]
  },
  {
   "cell_type": "markdown",
   "id": "329fb03f",
   "metadata": {},
   "source": [
    "# rebuild the model with hyper tunning best params in Adaboost "
   ]
  },
  {
   "cell_type": "code",
   "execution_count": null,
   "id": "6a361684",
   "metadata": {},
   "outputs": [],
   "source": [
    "#final model rebiuld the model\n",
    "final_model=AdaBoostClassifier(n_estimators=2)\n",
    "final_model.fit(x_train,y_train)\n",
    "\n",
    "train_pred=final_model.predict(x_train)\n",
    "test_pred=final_model.predict(x_test)\n",
    "\n",
    "print(accuracy_score(y_train,train_pred))\n",
    "print(accuracy_score(y_test,test_pred))"
   ]
  },
  {
   "cell_type": "code",
   "execution_count": null,
   "id": "cabbd968",
   "metadata": {},
   "outputs": [],
   "source": [
    "#cross validation\n",
    "from sklearn.model_selection import cross_val_score\n",
    "sc=cross_val_score(model,x,y,cv=5)\n",
    "print(sc)\n",
    "sc.mean()"
   ]
  },
  {
   "cell_type": "markdown",
   "id": "cc136d20",
   "metadata": {},
   "source": [
    "# model importance is showing the best feature/coumns high impotances choes the in adaboost"
   ]
  },
  {
   "cell_type": "code",
   "execution_count": null,
   "id": "201e18c9",
   "metadata": {},
   "outputs": [],
   "source": [
    "#feature importances\n",
    "final_model.feature_importances_"
   ]
  },
  {
   "cell_type": "code",
   "execution_count": null,
   "id": "c712fc52",
   "metadata": {},
   "outputs": [],
   "source": [
    "f=pd.DataFrame(index=x.columns,data=final_model.feature_importances_,columns=[\"Importances\"])\n",
    "f"
   ]
  },
  {
   "cell_type": "code",
   "execution_count": null,
   "id": "d75fc393",
   "metadata": {},
   "outputs": [],
   "source": [
    "imp_f=f[f[\"Importances\"]>0]\n",
    "imp_f.sort_values(\"Importances\")"
   ]
  },
  {
   "cell_type": "code",
   "execution_count": null,
   "id": "93e85c5b",
   "metadata": {},
   "outputs": [],
   "source": [
    "plt.figure(figsize=(12,5),dpi=100)\n",
    "sns.barplot(data=imp_f.sort_values(\"Importances\"),x=imp_f.index,y=\"Importances\")\n",
    "plt.xticks(rotation=90)\n",
    "plt.show()"
   ]
  },
  {
   "cell_type": "markdown",
   "id": "ba11e467",
   "metadata": {},
   "source": [
    "# GradientBoosting algorithm with defult parameter"
   ]
  },
  {
   "cell_type": "code",
   "execution_count": null,
   "id": "03bacd07",
   "metadata": {},
   "outputs": [],
   "source": [
    "#modeling with defult params\n",
    "from sklearn.ensemble import GradientBoostingClassifier\n",
    "g_model= GradientBoostingClassifier()\n",
    "g_model.fit(x_train,y_train)"
   ]
  },
  {
   "cell_type": "code",
   "execution_count": null,
   "id": "dc98e8f6",
   "metadata": {},
   "outputs": [],
   "source": [
    "#prediction \n",
    "train_pred=g_model.predict(x_train)\n",
    "test_pred=g_model.predict(x_test)"
   ]
  },
  {
   "cell_type": "code",
   "execution_count": null,
   "id": "75c244cf",
   "metadata": {},
   "outputs": [],
   "source": [
    "#evaluation\n",
    "from sklearn.metrics import accuracy_score\n",
    "print(accuracy_score(y_train,train_pred))\n",
    "print(accuracy_score(y_test,test_pred))"
   ]
  },
  {
   "cell_type": "code",
   "execution_count": null,
   "id": "3c21635b",
   "metadata": {},
   "outputs": [],
   "source": [
    "#cross validation\n",
    "from sklearn.model_selection import cross_val_score\n",
    "sc=cross_val_score(g_model,x,y,cv=5)\n",
    "print(sc)\n",
    "sc.mean()"
   ]
  },
  {
   "cell_type": "code",
   "execution_count": null,
   "id": "dc8712b4",
   "metadata": {},
   "outputs": [],
   "source": [
    "#confusion matrix \n",
    "from sklearn.metrics import plot_confusion_matrix\n",
    "plot_confusion_matrix(g_model,x_test,y_test)\n",
    "plt.show()"
   ]
  },
  {
   "cell_type": "code",
   "execution_count": null,
   "id": "5dedd9f6",
   "metadata": {},
   "outputs": [],
   "source": [
    "#classification_report\n",
    "from sklearn.metrics import classification_report\n",
    "print(classification_report(y_test,test_pred))"
   ]
  },
  {
   "cell_type": "markdown",
   "id": "38b45e68",
   "metadata": {},
   "source": [
    "# hyerpamater tunning in Gradientboost for best parameter\n"
   ]
  },
  {
   "cell_type": "code",
   "execution_count": null,
   "id": "9530b87f",
   "metadata": {},
   "outputs": [],
   "source": [
    "#hyerpamater tunning \n",
    "from sklearn.model_selection import GridSearchCV\n",
    "estimator=GradientBoostingClassifier()\n",
    "\n",
    "pram_grid={\"n_estimators\":[1,3,4,5,67,88,39,100],\"learning_rate\":[0.1,0.2,0.3,0.4,0.5,0.6,1]}\n",
    "\n",
    "grid=GridSearchCV(estimator,pram_grid,cv=5,scoring=\"accuracy\")\n",
    "grid.fit(x_train,y_train)\n",
    "grid.best_params_"
   ]
  },
  {
   "cell_type": "code",
   "execution_count": null,
   "id": "caa527f4",
   "metadata": {},
   "outputs": [],
   "source": [
    "#final model rebiuld the model\n",
    "final_model=GradientBoostingClassifier(n_estimators=67,learning_rate=0.1)\n",
    "final_model.fit(x_train,y_train)\n",
    "\n",
    "train_pred=final_model.predict(x_train)\n",
    "test_pred=final_model.predict(x_test)\n",
    "\n",
    "print(accuracy_score(y_train,train_pred))\n",
    "print(accuracy_score(y_test,test_pred))"
   ]
  },
  {
   "cell_type": "code",
   "execution_count": null,
   "id": "9c196e3e",
   "metadata": {},
   "outputs": [],
   "source": [
    "#cross validation\n",
    "from sklearn.model_selection import cross_val_score\n",
    "sc=cross_val_score(g_model,x,y,cv=5)\n",
    "print(sc)\n",
    "sc.mean()"
   ]
  },
  {
   "cell_type": "code",
   "execution_count": null,
   "id": "4d3e8b38",
   "metadata": {},
   "outputs": [],
   "source": [
    "#feature importances\n",
    "final_model.feature_importances_"
   ]
  },
  {
   "cell_type": "markdown",
   "id": "1b1557ba",
   "metadata": {},
   "source": [
    "# model importance is showing the best feature/coumns high impotances choes the in adaboost"
   ]
  },
  {
   "cell_type": "code",
   "execution_count": null,
   "id": "5bd0b776",
   "metadata": {},
   "outputs": [],
   "source": [
    "f=pd.DataFrame(index=x.columns,data=final_model.feature_importances_,columns=[\"Importances\"])\n",
    "f"
   ]
  },
  {
   "cell_type": "code",
   "execution_count": null,
   "id": "df910f87",
   "metadata": {},
   "outputs": [],
   "source": [
    "imp_f=f[f[\"Importances\"]>0]\n",
    "imp_f.sort_values(\"Importances\")"
   ]
  },
  {
   "cell_type": "code",
   "execution_count": null,
   "id": "9f4d5ea7",
   "metadata": {},
   "outputs": [],
   "source": [
    "plt.figure(figsize=(14,6),dpi=200)\n",
    "sns.barplot(data=imp_f.sort_values(\"Importances\"),x=imp_f.index,y=\"Importances\")\n",
    "plt.xticks(rotation=90)\n",
    "plt.show()"
   ]
  },
  {
   "cell_type": "markdown",
   "id": "9573b0a5",
   "metadata": {},
   "source": [
    "# XGBoost alogorithm in ml with defult parameter"
   ]
  },
  {
   "cell_type": "code",
   "execution_count": null,
   "id": "e2bf2e7e",
   "metadata": {},
   "outputs": [],
   "source": [
    "#modeling xgboost with defult \n",
    "from xgboost import XGBClassifier\n",
    "help(XGBClassifier)"
   ]
  },
  {
   "cell_type": "code",
   "execution_count": null,
   "id": "7749f73f",
   "metadata": {},
   "outputs": [],
   "source": [
    "#1st model should be with defult param \n",
    "xgb_model= XGBClassifier()\n"
   ]
  },
  {
   "cell_type": "code",
   "execution_count": null,
   "id": "8e5ce1c0",
   "metadata": {},
   "outputs": [],
   "source": [
    "#fit the model with training data set \n",
    "xgb_model.fit(x_train,y_train)"
   ]
  },
  {
   "cell_type": "code",
   "execution_count": null,
   "id": "b9bf3d64",
   "metadata": {},
   "outputs": [],
   "source": [
    "ds[\"species\"].value_counts()"
   ]
  },
  {
   "cell_type": "code",
   "execution_count": null,
   "id": "e7d9710e",
   "metadata": {},
   "outputs": [],
   "source": [
    "#predict over x_train & predict over x_test\n",
    "train_pred=xgb_model.predict(X_train)\n",
    "test_pred=xgb_model.predict(X_test)"
   ]
  },
  {
   "cell_type": "code",
   "execution_count": null,
   "id": "28e72539",
   "metadata": {},
   "outputs": [],
   "source": [
    "#evaluation\n",
    "from sklearn.metrics import accuracy_score\n",
    "print(accuracy_score(y_train,train_pred))\n",
    "print(accuracy_score(y_test,test_pred))"
   ]
  },
  {
   "cell_type": "code",
   "execution_count": null,
   "id": "e0e82fc8",
   "metadata": {},
   "outputs": [],
   "source": [
    "#appling k_fold croass validation \n",
    "from sklearn.model_selection import cross_val_score\n",
    "accuracy=cross_val_score(estimator=xgb_model,X ,y, cv=5)\n",
    "accuracy.mean()"
   ]
  },
  {
   "cell_type": "code",
   "execution_count": null,
   "id": "fc2774ff",
   "metadata": {},
   "outputs": [],
   "source": [
    "#confusion matrix \n",
    "from sklearn.metrics import plot_confusion_matrix\n",
    "plot_confusion_matrix(xgb_model,X_test,y_test)\n",
    "plt.show()"
   ]
  },
  {
   "cell_type": "code",
   "execution_count": null,
   "id": "cc671749",
   "metadata": {},
   "outputs": [],
   "source": [
    "#classification_report\n",
    "from sklearn.metrics import classification_report\n",
    "print(classification_report(y_test,test_pred))"
   ]
  },
  {
   "cell_type": "markdown",
   "id": "e992e064",
   "metadata": {},
   "source": [
    "# hyerpamater tunning in XGBoost for best parameter"
   ]
  },
  {
   "cell_type": "code",
   "execution_count": null,
   "id": "6b133e3f",
   "metadata": {},
   "outputs": [],
   "source": [
    "#hyerpamater tunning \n",
    "from sklearn.model_selection import GridSearchCV\n",
    "xgb_model= XGBClassifier()\n",
    "param_grid={\"n_estimators\":[1,5,66,7,2,100],\"max_depth\":[3,4,5,6],\"gamma\":[0,1,2,4]}\n",
    "\n",
    "grid=GridSearchCV(xbg_model,param_grid,cv=5,scoring=\"accuracy\")\n",
    "grid.fit(X_train,y_train)\n",
    "\n",
    "grid.best_params_"
   ]
  },
  {
   "cell_type": "code",
   "execution_count": null,
   "id": "57a368d9",
   "metadata": {},
   "outputs": [],
   "source": [
    "prediction=grid.predict(X_test)"
   ]
  },
  {
   "cell_type": "code",
   "execution_count": null,
   "id": "bfce55b3",
   "metadata": {},
   "outputs": [],
   "source": [
    "print(classification_report(y_test,test_pred))"
   ]
  },
  {
   "cell_type": "markdown",
   "id": "8e36ae2a",
   "metadata": {},
   "source": [
    "# model importance is showing the best feature/coumns high impotances choes the in adaboost"
   ]
  },
  {
   "cell_type": "code",
   "execution_count": null,
   "id": "3bb9a042",
   "metadata": {},
   "outputs": [],
   "source": [
    "#feature importances\n",
    "grid.best_estimator_.feature_importances_"
   ]
  },
  {
   "cell_type": "code",
   "execution_count": null,
   "id": "f86544d0",
   "metadata": {},
   "outputs": [],
   "source": [
    "imp_f=pd.DataFrame(index=x.columns,data=grid.best_estimator_.feature_importances_,columns=[\"importances\"])\n",
    "imp_f"
   ]
  },
  {
   "cell_type": "code",
   "execution_count": null,
   "id": "351d8f69",
   "metadata": {},
   "outputs": [],
   "source": [
    "imp_f.sort_values(\"importances\",ascending=False)"
   ]
  },
  {
   "cell_type": "code",
   "execution_count": null,
   "id": "e83803a5",
   "metadata": {},
   "outputs": [],
   "source": [
    "imp_f.describe()"
   ]
  },
  {
   "cell_type": "code",
   "execution_count": null,
   "id": "e1180004",
   "metadata": {},
   "outputs": [],
   "source": [
    "imp_f=imp_f[imp_f[\"importances\"]>0.000527]"
   ]
  },
  {
   "cell_type": "code",
   "execution_count": null,
   "id": "764b6d6b",
   "metadata": {},
   "outputs": [],
   "source": [
    "plt.figure(figsize=(14,6),dpi=200)\n",
    "sns.barplot(data=imp_f.sort_values(\"importance\"),x=imp_f.index,y=\"importances\")\n",
    "plt.xticks(rotation=90)"
   ]
  },
  {
   "cell_type": "code",
   "execution_count": null,
   "id": "40d0c5bb",
   "metadata": {},
   "outputs": [],
   "source": []
  },
  {
   "cell_type": "code",
   "execution_count": null,
   "id": "72430f84",
   "metadata": {},
   "outputs": [],
   "source": []
  },
  {
   "cell_type": "code",
   "execution_count": null,
   "id": "ef9d895b",
   "metadata": {},
   "outputs": [],
   "source": []
  },
  {
   "cell_type": "code",
   "execution_count": null,
   "id": "c96a4c4f",
   "metadata": {},
   "outputs": [],
   "source": []
  }
 ],
 "metadata": {
  "kernelspec": {
   "display_name": "Python 3 (ipykernel)",
   "language": "python",
   "name": "python3"
  },
  "language_info": {
   "codemirror_mode": {
    "name": "ipython",
    "version": 3
   },
   "file_extension": ".py",
   "mimetype": "text/x-python",
   "name": "python",
   "nbconvert_exporter": "python",
   "pygments_lexer": "ipython3",
   "version": "3.9.12"
  }
 },
 "nbformat": 4,
 "nbformat_minor": 5
}
